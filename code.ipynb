{
 "cells": [
  {
   "cell_type": "code",
   "execution_count": 1,
   "id": "7892e4ba",
   "metadata": {},
   "outputs": [],
   "source": [
    "import numpy as np\n",
    "import matplotlib.pyplot as plt\n",
    "import pandas as pd\n",
    "import seaborn as sns\n",
    "from sklearn.model_selection import train_test_split\n",
    "from sklearn.metrics import roc_curve,roc_auc_score\n",
    "from sklearn.metrics import accuracy_score\n",
    "from sklearn.ensemble import GradientBoostingClassifier"
   ]
  },
  {
   "cell_type": "code",
   "execution_count": 2,
   "id": "4119642d",
   "metadata": {},
   "outputs": [],
   "source": [
    "#Reading the files"
   ]
  },
  {
   "cell_type": "code",
   "execution_count": 3,
   "id": "9d4d0bb4",
   "metadata": {},
   "outputs": [],
   "source": [
    "X_train=pd.read_csv(\"Data/TrainingWiDS2021.csv\")\n",
    "X_test=pd.read_csv(\"Data/UnlabeledWiDS2021.csv\")"
   ]
  },
  {
   "cell_type": "markdown",
   "id": "b0f70ff0",
   "metadata": {},
   "source": [
    "## Data Insights"
   ]
  },
  {
   "cell_type": "code",
   "execution_count": 4,
   "id": "a2c68e65",
   "metadata": {},
   "outputs": [
    {
     "data": {
      "text/html": [
       "<div>\n",
       "<style scoped>\n",
       "    .dataframe tbody tr th:only-of-type {\n",
       "        vertical-align: middle;\n",
       "    }\n",
       "\n",
       "    .dataframe tbody tr th {\n",
       "        vertical-align: top;\n",
       "    }\n",
       "\n",
       "    .dataframe thead th {\n",
       "        text-align: right;\n",
       "    }\n",
       "</style>\n",
       "<table border=\"1\" class=\"dataframe\">\n",
       "  <thead>\n",
       "    <tr style=\"text-align: right;\">\n",
       "      <th></th>\n",
       "      <th>Unnamed: 0</th>\n",
       "      <th>encounter_id</th>\n",
       "      <th>hospital_id</th>\n",
       "      <th>age</th>\n",
       "      <th>bmi</th>\n",
       "      <th>elective_surgery</th>\n",
       "      <th>ethnicity</th>\n",
       "      <th>gender</th>\n",
       "      <th>height</th>\n",
       "      <th>hospital_admit_source</th>\n",
       "      <th>...</th>\n",
       "      <th>h1_pao2fio2ratio_max</th>\n",
       "      <th>h1_pao2fio2ratio_min</th>\n",
       "      <th>aids</th>\n",
       "      <th>cirrhosis</th>\n",
       "      <th>hepatic_failure</th>\n",
       "      <th>immunosuppression</th>\n",
       "      <th>leukemia</th>\n",
       "      <th>lymphoma</th>\n",
       "      <th>solid_tumor_with_metastasis</th>\n",
       "      <th>diabetes_mellitus</th>\n",
       "    </tr>\n",
       "  </thead>\n",
       "  <tbody>\n",
       "    <tr>\n",
       "      <th>0</th>\n",
       "      <td>1</td>\n",
       "      <td>214826</td>\n",
       "      <td>118</td>\n",
       "      <td>68.0</td>\n",
       "      <td>22.732803</td>\n",
       "      <td>0</td>\n",
       "      <td>Caucasian</td>\n",
       "      <td>M</td>\n",
       "      <td>180.3</td>\n",
       "      <td>Floor</td>\n",
       "      <td>...</td>\n",
       "      <td>NaN</td>\n",
       "      <td>NaN</td>\n",
       "      <td>0</td>\n",
       "      <td>0</td>\n",
       "      <td>0</td>\n",
       "      <td>0</td>\n",
       "      <td>0</td>\n",
       "      <td>0</td>\n",
       "      <td>0</td>\n",
       "      <td>1</td>\n",
       "    </tr>\n",
       "    <tr>\n",
       "      <th>1</th>\n",
       "      <td>2</td>\n",
       "      <td>246060</td>\n",
       "      <td>81</td>\n",
       "      <td>77.0</td>\n",
       "      <td>27.421875</td>\n",
       "      <td>0</td>\n",
       "      <td>Caucasian</td>\n",
       "      <td>F</td>\n",
       "      <td>160.0</td>\n",
       "      <td>Floor</td>\n",
       "      <td>...</td>\n",
       "      <td>51.0</td>\n",
       "      <td>51.0</td>\n",
       "      <td>0</td>\n",
       "      <td>0</td>\n",
       "      <td>0</td>\n",
       "      <td>0</td>\n",
       "      <td>0</td>\n",
       "      <td>0</td>\n",
       "      <td>0</td>\n",
       "      <td>1</td>\n",
       "    </tr>\n",
       "    <tr>\n",
       "      <th>2</th>\n",
       "      <td>3</td>\n",
       "      <td>276985</td>\n",
       "      <td>118</td>\n",
       "      <td>25.0</td>\n",
       "      <td>31.952749</td>\n",
       "      <td>0</td>\n",
       "      <td>Caucasian</td>\n",
       "      <td>F</td>\n",
       "      <td>172.7</td>\n",
       "      <td>Emergency Department</td>\n",
       "      <td>...</td>\n",
       "      <td>NaN</td>\n",
       "      <td>NaN</td>\n",
       "      <td>0</td>\n",
       "      <td>0</td>\n",
       "      <td>0</td>\n",
       "      <td>0</td>\n",
       "      <td>0</td>\n",
       "      <td>0</td>\n",
       "      <td>0</td>\n",
       "      <td>0</td>\n",
       "    </tr>\n",
       "    <tr>\n",
       "      <th>3</th>\n",
       "      <td>4</td>\n",
       "      <td>262220</td>\n",
       "      <td>118</td>\n",
       "      <td>81.0</td>\n",
       "      <td>22.635548</td>\n",
       "      <td>1</td>\n",
       "      <td>Caucasian</td>\n",
       "      <td>F</td>\n",
       "      <td>165.1</td>\n",
       "      <td>Operating Room</td>\n",
       "      <td>...</td>\n",
       "      <td>337.0</td>\n",
       "      <td>337.0</td>\n",
       "      <td>0</td>\n",
       "      <td>0</td>\n",
       "      <td>0</td>\n",
       "      <td>0</td>\n",
       "      <td>0</td>\n",
       "      <td>0</td>\n",
       "      <td>0</td>\n",
       "      <td>0</td>\n",
       "    </tr>\n",
       "    <tr>\n",
       "      <th>4</th>\n",
       "      <td>5</td>\n",
       "      <td>201746</td>\n",
       "      <td>33</td>\n",
       "      <td>19.0</td>\n",
       "      <td>NaN</td>\n",
       "      <td>0</td>\n",
       "      <td>Caucasian</td>\n",
       "      <td>M</td>\n",
       "      <td>188.0</td>\n",
       "      <td>NaN</td>\n",
       "      <td>...</td>\n",
       "      <td>NaN</td>\n",
       "      <td>NaN</td>\n",
       "      <td>0</td>\n",
       "      <td>0</td>\n",
       "      <td>0</td>\n",
       "      <td>0</td>\n",
       "      <td>0</td>\n",
       "      <td>0</td>\n",
       "      <td>0</td>\n",
       "      <td>0</td>\n",
       "    </tr>\n",
       "  </tbody>\n",
       "</table>\n",
       "<p>5 rows × 181 columns</p>\n",
       "</div>"
      ],
      "text/plain": [
       "   Unnamed: 0  encounter_id  hospital_id   age        bmi  elective_surgery  \\\n",
       "0           1        214826          118  68.0  22.732803                 0   \n",
       "1           2        246060           81  77.0  27.421875                 0   \n",
       "2           3        276985          118  25.0  31.952749                 0   \n",
       "3           4        262220          118  81.0  22.635548                 1   \n",
       "4           5        201746           33  19.0        NaN                 0   \n",
       "\n",
       "   ethnicity gender  height hospital_admit_source  ... h1_pao2fio2ratio_max  \\\n",
       "0  Caucasian      M   180.3                 Floor  ...                  NaN   \n",
       "1  Caucasian      F   160.0                 Floor  ...                 51.0   \n",
       "2  Caucasian      F   172.7  Emergency Department  ...                  NaN   \n",
       "3  Caucasian      F   165.1        Operating Room  ...                337.0   \n",
       "4  Caucasian      M   188.0                   NaN  ...                  NaN   \n",
       "\n",
       "   h1_pao2fio2ratio_min aids cirrhosis  hepatic_failure  immunosuppression  \\\n",
       "0                   NaN    0         0                0                  0   \n",
       "1                  51.0    0         0                0                  0   \n",
       "2                   NaN    0         0                0                  0   \n",
       "3                 337.0    0         0                0                  0   \n",
       "4                   NaN    0         0                0                  0   \n",
       "\n",
       "   leukemia  lymphoma  solid_tumor_with_metastasis  diabetes_mellitus  \n",
       "0         0         0                            0                  1  \n",
       "1         0         0                            0                  1  \n",
       "2         0         0                            0                  0  \n",
       "3         0         0                            0                  0  \n",
       "4         0         0                            0                  0  \n",
       "\n",
       "[5 rows x 181 columns]"
      ]
     },
     "execution_count": 4,
     "metadata": {},
     "output_type": "execute_result"
    }
   ],
   "source": [
    "X_train.head()"
   ]
  },
  {
   "cell_type": "code",
   "execution_count": 5,
   "id": "41b1b5fa",
   "metadata": {},
   "outputs": [
    {
     "data": {
      "text/plain": [
       "(130157, 181)"
      ]
     },
     "execution_count": 5,
     "metadata": {},
     "output_type": "execute_result"
    }
   ],
   "source": [
    "X_train.shape"
   ]
  },
  {
   "cell_type": "markdown",
   "id": "4e9e32ff",
   "metadata": {},
   "source": [
    "We have training data consisting of 130157 samples each consisting of 180 features.  These features are the information about the patients admitted in the ICU and include BMI, Ethnicity, age and so on. Much of these features are of very low importance and our next steps would be to remove those features. The last column is the ground truth or an indicator of whether that particular patient has diabetes or not.\n",
    "\n",
    "But before that we need to clean and preprocess our data, as it is very raw"
   ]
  },
  {
   "cell_type": "code",
   "execution_count": 6,
   "id": "3b7ed9ce",
   "metadata": {},
   "outputs": [
    {
     "data": {
      "text/plain": [
       "(10234, 180)"
      ]
     },
     "execution_count": 6,
     "metadata": {},
     "output_type": "execute_result"
    }
   ],
   "source": [
    "X_test.shape"
   ]
  },
  {
   "cell_type": "markdown",
   "id": "1086afc2",
   "metadata": {},
   "source": [
    "We have test data consisting of 10234 data points. Our task will be to make predictions for these points whose ground truth value we do not know"
   ]
  },
  {
   "cell_type": "code",
   "execution_count": 7,
   "id": "c1622c24",
   "metadata": {},
   "outputs": [],
   "source": [
    "y_train=X_train[\"diabetes_mellitus\"]"
   ]
  },
  {
   "cell_type": "code",
   "execution_count": 8,
   "id": "0663d4f5",
   "metadata": {},
   "outputs": [],
   "source": [
    "X_train=X_train.drop(['Unnamed: 0','encounter_id','hospital_id','diabetes_mellitus'],axis=1) #Dropping index columns cause they are irrelavant in making predictions\n",
    "X_test=X_test.drop(['Unnamed: 0','encounter_id','hospital_id'],axis=1)"
   ]
  },
  {
   "cell_type": "code",
   "execution_count": 9,
   "id": "c79520f4",
   "metadata": {},
   "outputs": [
    {
     "name": "stdout",
     "output_type": "stream",
     "text": [
      "(130157, 177) (10234, 177)\n"
     ]
    }
   ],
   "source": [
    "print(X_train.shape,X_test.shape)"
   ]
  },
  {
   "cell_type": "markdown",
   "id": "2216d094",
   "metadata": {},
   "source": [
    "## Data Preprocessing and Cleaning"
   ]
  },
  {
   "cell_type": "code",
   "execution_count": 10,
   "id": "6096dce6",
   "metadata": {},
   "outputs": [
    {
     "name": "stderr",
     "output_type": "stream",
     "text": [
      "C:\\Users\\HP\\anaconda3\\lib\\site-packages\\seaborn\\_decorators.py:36: FutureWarning: Pass the following variable as a keyword arg: x. From version 0.12, the only valid positional argument will be `data`, and passing other arguments without an explicit keyword will result in an error or misinterpretation.\n",
      "  warnings.warn(\n"
     ]
    },
    {
     "data": {
      "image/png": "[encoded data removed]",
      "text/plain": [
       "<Figure size 432x288 with 1 Axes>"
      ]
     },
     "metadata": {
      "needs_background": "light"
     },
     "output_type": "display_data"
    },
    {
     "name": "stdout",
     "output_type": "stream",
     "text": [
      "Dataset is Unbalanced\n"
     ]
    },
    {
     "data": {
      "text/plain": [
       "0    102006\n",
       "1     28151\n",
       "Name: diabetes_mellitus, dtype: int64"
      ]
     },
     "execution_count": 10,
     "metadata": {},
     "output_type": "execute_result"
    }
   ],
   "source": [
    "sns.countplot(y_train)\n",
    "plt.show()\n",
    "print('Dataset is Unbalanced')\n",
    "y_train.value_counts()"
   ]
  },
  {
   "cell_type": "markdown",
   "id": "4d3c7fae",
   "metadata": {},
   "source": [
    "The above plot shows that the training dataset is imbalanced as it should be because the proportion of patients admitted to the ICU having diabetes has to be less than the patients who do not have diabetes"
   ]
  },
  {
   "cell_type": "markdown",
   "id": "f1a8c531",
   "metadata": {},
   "source": [
    "Let us look at a description of the dataset through some statistics"
   ]
  },
  {
   "cell_type": "code",
   "execution_count": 11,
   "id": "57286d34",
   "metadata": {},
   "outputs": [
    {
     "data": {
      "text/html": [
       "<div>\n",
       "<style scoped>\n",
       "    .dataframe tbody tr th:only-of-type {\n",
       "        vertical-align: middle;\n",
       "    }\n",
       "\n",
       "    .dataframe tbody tr th {\n",
       "        vertical-align: top;\n",
       "    }\n",
       "\n",
       "    .dataframe thead th {\n",
       "        text-align: right;\n",
       "    }\n",
       "</style>\n",
       "<table border=\"1\" class=\"dataframe\">\n",
       "  <thead>\n",
       "    <tr style=\"text-align: right;\">\n",
       "      <th></th>\n",
       "      <th>age</th>\n",
       "      <th>bmi</th>\n",
       "      <th>elective_surgery</th>\n",
       "      <th>height</th>\n",
       "      <th>icu_id</th>\n",
       "      <th>pre_icu_los_days</th>\n",
       "      <th>readmission_status</th>\n",
       "      <th>weight</th>\n",
       "      <th>albumin_apache</th>\n",
       "      <th>apache_2_diagnosis</th>\n",
       "      <th>...</th>\n",
       "      <th>h1_arterial_po2_min</th>\n",
       "      <th>h1_pao2fio2ratio_max</th>\n",
       "      <th>h1_pao2fio2ratio_min</th>\n",
       "      <th>aids</th>\n",
       "      <th>cirrhosis</th>\n",
       "      <th>hepatic_failure</th>\n",
       "      <th>immunosuppression</th>\n",
       "      <th>leukemia</th>\n",
       "      <th>lymphoma</th>\n",
       "      <th>solid_tumor_with_metastasis</th>\n",
       "    </tr>\n",
       "  </thead>\n",
       "  <tbody>\n",
       "    <tr>\n",
       "      <th>count</th>\n",
       "      <td>125169.000000</td>\n",
       "      <td>125667.000000</td>\n",
       "      <td>130157.000000</td>\n",
       "      <td>128080.000000</td>\n",
       "      <td>130157.000000</td>\n",
       "      <td>130157.000000</td>\n",
       "      <td>130157.0</td>\n",
       "      <td>126694.000000</td>\n",
       "      <td>51994.000000</td>\n",
       "      <td>128472.000000</td>\n",
       "      <td>...</td>\n",
       "      <td>22712.000000</td>\n",
       "      <td>16760.000000</td>\n",
       "      <td>16760.000000</td>\n",
       "      <td>130157.00000</td>\n",
       "      <td>130157.000000</td>\n",
       "      <td>130157.000000</td>\n",
       "      <td>130157.000000</td>\n",
       "      <td>130157.000000</td>\n",
       "      <td>130157.000000</td>\n",
       "      <td>130157.000000</td>\n",
       "    </tr>\n",
       "    <tr>\n",
       "      <th>mean</th>\n",
       "      <td>61.995103</td>\n",
       "      <td>29.110260</td>\n",
       "      <td>0.189840</td>\n",
       "      <td>169.607219</td>\n",
       "      <td>662.428344</td>\n",
       "      <td>0.839933</td>\n",
       "      <td>0.0</td>\n",
       "      <td>83.791104</td>\n",
       "      <td>2.886149</td>\n",
       "      <td>185.492683</td>\n",
       "      <td>...</td>\n",
       "      <td>145.949537</td>\n",
       "      <td>247.525419</td>\n",
       "      <td>239.617358</td>\n",
       "      <td>0.00103</td>\n",
       "      <td>0.016081</td>\n",
       "      <td>0.013599</td>\n",
       "      <td>0.025669</td>\n",
       "      <td>0.007307</td>\n",
       "      <td>0.004187</td>\n",
       "      <td>0.020852</td>\n",
       "    </tr>\n",
       "    <tr>\n",
       "      <th>std</th>\n",
       "      <td>16.822880</td>\n",
       "      <td>8.262776</td>\n",
       "      <td>0.392176</td>\n",
       "      <td>10.833085</td>\n",
       "      <td>304.259843</td>\n",
       "      <td>2.485337</td>\n",
       "      <td>0.0</td>\n",
       "      <td>24.963063</td>\n",
       "      <td>0.689812</td>\n",
       "      <td>85.858208</td>\n",
       "      <td>...</td>\n",
       "      <td>100.211935</td>\n",
       "      <td>131.440167</td>\n",
       "      <td>128.562211</td>\n",
       "      <td>0.03207</td>\n",
       "      <td>0.125786</td>\n",
       "      <td>0.115819</td>\n",
       "      <td>0.158146</td>\n",
       "      <td>0.085166</td>\n",
       "      <td>0.064574</td>\n",
       "      <td>0.142888</td>\n",
       "    </tr>\n",
       "    <tr>\n",
       "      <th>min</th>\n",
       "      <td>0.000000</td>\n",
       "      <td>14.844926</td>\n",
       "      <td>0.000000</td>\n",
       "      <td>137.200000</td>\n",
       "      <td>82.000000</td>\n",
       "      <td>-0.250000</td>\n",
       "      <td>0.0</td>\n",
       "      <td>38.600000</td>\n",
       "      <td>1.200000</td>\n",
       "      <td>101.000000</td>\n",
       "      <td>...</td>\n",
       "      <td>31.000000</td>\n",
       "      <td>42.000000</td>\n",
       "      <td>38.000000</td>\n",
       "      <td>0.00000</td>\n",
       "      <td>0.000000</td>\n",
       "      <td>0.000000</td>\n",
       "      <td>0.000000</td>\n",
       "      <td>0.000000</td>\n",
       "      <td>0.000000</td>\n",
       "      <td>0.000000</td>\n",
       "    </tr>\n",
       "    <tr>\n",
       "      <th>25%</th>\n",
       "      <td>52.000000</td>\n",
       "      <td>23.598006</td>\n",
       "      <td>0.000000</td>\n",
       "      <td>162.500000</td>\n",
       "      <td>427.000000</td>\n",
       "      <td>0.045833</td>\n",
       "      <td>0.0</td>\n",
       "      <td>66.500000</td>\n",
       "      <td>2.400000</td>\n",
       "      <td>113.000000</td>\n",
       "      <td>...</td>\n",
       "      <td>77.000000</td>\n",
       "      <td>144.000000</td>\n",
       "      <td>138.000000</td>\n",
       "      <td>0.00000</td>\n",
       "      <td>0.000000</td>\n",
       "      <td>0.000000</td>\n",
       "      <td>0.000000</td>\n",
       "      <td>0.000000</td>\n",
       "      <td>0.000000</td>\n",
       "      <td>0.000000</td>\n",
       "    </tr>\n",
       "    <tr>\n",
       "      <th>50%</th>\n",
       "      <td>64.000000</td>\n",
       "      <td>27.564749</td>\n",
       "      <td>0.000000</td>\n",
       "      <td>170.100000</td>\n",
       "      <td>653.000000</td>\n",
       "      <td>0.155556</td>\n",
       "      <td>0.0</td>\n",
       "      <td>80.000000</td>\n",
       "      <td>2.900000</td>\n",
       "      <td>122.000000</td>\n",
       "      <td>...</td>\n",
       "      <td>108.000000</td>\n",
       "      <td>228.125000</td>\n",
       "      <td>218.750000</td>\n",
       "      <td>0.00000</td>\n",
       "      <td>0.000000</td>\n",
       "      <td>0.000000</td>\n",
       "      <td>0.000000</td>\n",
       "      <td>0.000000</td>\n",
       "      <td>0.000000</td>\n",
       "      <td>0.000000</td>\n",
       "    </tr>\n",
       "    <tr>\n",
       "      <th>75%</th>\n",
       "      <td>75.000000</td>\n",
       "      <td>32.803127</td>\n",
       "      <td>0.000000</td>\n",
       "      <td>177.800000</td>\n",
       "      <td>969.000000</td>\n",
       "      <td>0.423611</td>\n",
       "      <td>0.0</td>\n",
       "      <td>96.800000</td>\n",
       "      <td>3.400000</td>\n",
       "      <td>301.000000</td>\n",
       "      <td>...</td>\n",
       "      <td>182.000000</td>\n",
       "      <td>333.000000</td>\n",
       "      <td>324.000000</td>\n",
       "      <td>0.00000</td>\n",
       "      <td>0.000000</td>\n",
       "      <td>0.000000</td>\n",
       "      <td>0.000000</td>\n",
       "      <td>0.000000</td>\n",
       "      <td>0.000000</td>\n",
       "      <td>0.000000</td>\n",
       "    </tr>\n",
       "    <tr>\n",
       "      <th>max</th>\n",
       "      <td>89.000000</td>\n",
       "      <td>67.814990</td>\n",
       "      <td>1.000000</td>\n",
       "      <td>195.590000</td>\n",
       "      <td>1111.000000</td>\n",
       "      <td>175.627778</td>\n",
       "      <td>0.0</td>\n",
       "      <td>186.000000</td>\n",
       "      <td>4.600000</td>\n",
       "      <td>308.000000</td>\n",
       "      <td>...</td>\n",
       "      <td>514.905000</td>\n",
       "      <td>720.000000</td>\n",
       "      <td>654.813793</td>\n",
       "      <td>1.00000</td>\n",
       "      <td>1.000000</td>\n",
       "      <td>1.000000</td>\n",
       "      <td>1.000000</td>\n",
       "      <td>1.000000</td>\n",
       "      <td>1.000000</td>\n",
       "      <td>1.000000</td>\n",
       "    </tr>\n",
       "  </tbody>\n",
       "</table>\n",
       "<p>8 rows × 171 columns</p>\n",
       "</div>"
      ],
      "text/plain": [
       "                 age            bmi  elective_surgery         height  \\\n",
       "count  125169.000000  125667.000000     130157.000000  128080.000000   \n",
       "mean       61.995103      29.110260          0.189840     169.607219   \n",
       "std        16.822880       8.262776          0.392176      10.833085   \n",
       "min         0.000000      14.844926          0.000000     137.200000   \n",
       "25%        52.000000      23.598006          0.000000     162.500000   \n",
       "50%        64.000000      27.564749          0.000000     170.100000   \n",
       "75%        75.000000      32.803127          0.000000     177.800000   \n",
       "max        89.000000      67.814990          1.000000     195.590000   \n",
       "\n",
       "              icu_id  pre_icu_los_days  readmission_status         weight  \\\n",
       "count  130157.000000     130157.000000            130157.0  126694.000000   \n",
       "mean      662.428344          0.839933                 0.0      83.791104   \n",
       "std       304.259843          2.485337                 0.0      24.963063   \n",
       "min        82.000000         -0.250000                 0.0      38.600000   \n",
       "25%       427.000000          0.045833                 0.0      66.500000   \n",
       "50%       653.000000          0.155556                 0.0      80.000000   \n",
       "75%       969.000000          0.423611                 0.0      96.800000   \n",
       "max      1111.000000        175.627778                 0.0     186.000000   \n",
       "\n",
       "       albumin_apache  apache_2_diagnosis  ...  h1_arterial_po2_min  \\\n",
       "count    51994.000000       128472.000000  ...         22712.000000   \n",
       "mean         2.886149          185.492683  ...           145.949537   \n",
       "std          0.689812           85.858208  ...           100.211935   \n",
       "min          1.200000          101.000000  ...            31.000000   \n",
       "25%          2.400000          113.000000  ...            77.000000   \n",
       "50%          2.900000          122.000000  ...           108.000000   \n",
       "75%          3.400000          301.000000  ...           182.000000   \n",
       "max          4.600000          308.000000  ...           514.905000   \n",
       "\n",
       "       h1_pao2fio2ratio_max  h1_pao2fio2ratio_min          aids  \\\n",
       "count          16760.000000          16760.000000  130157.00000   \n",
       "mean             247.525419            239.617358       0.00103   \n",
       "std              131.440167            128.562211       0.03207   \n",
       "min               42.000000             38.000000       0.00000   \n",
       "25%              144.000000            138.000000       0.00000   \n",
       "50%              228.125000            218.750000       0.00000   \n",
       "75%              333.000000            324.000000       0.00000   \n",
       "max              720.000000            654.813793       1.00000   \n",
       "\n",
       "           cirrhosis  hepatic_failure  immunosuppression       leukemia  \\\n",
       "count  130157.000000    130157.000000      130157.000000  130157.000000   \n",
       "mean        0.016081         0.013599           0.025669       0.007307   \n",
       "std         0.125786         0.115819           0.158146       0.085166   \n",
       "min         0.000000         0.000000           0.000000       0.000000   \n",
       "25%         0.000000         0.000000           0.000000       0.000000   \n",
       "50%         0.000000         0.000000           0.000000       0.000000   \n",
       "75%         0.000000         0.000000           0.000000       0.000000   \n",
       "max         1.000000         1.000000           1.000000       1.000000   \n",
       "\n",
       "            lymphoma  solid_tumor_with_metastasis  \n",
       "count  130157.000000                130157.000000  \n",
       "mean        0.004187                     0.020852  \n",
       "std         0.064574                     0.142888  \n",
       "min         0.000000                     0.000000  \n",
       "25%         0.000000                     0.000000  \n",
       "50%         0.000000                     0.000000  \n",
       "75%         0.000000                     0.000000  \n",
       "max         1.000000                     1.000000  \n",
       "\n",
       "[8 rows x 171 columns]"
      ]
     },
     "execution_count": 11,
     "metadata": {},
     "output_type": "execute_result"
    }
   ],
   "source": [
    "X_train.describe()"
   ]
  },
  {
   "cell_type": "code",
   "execution_count": 12,
   "id": "b1b785c7",
   "metadata": {},
   "outputs": [
    {
     "data": {
      "text/html": [
       "<div>\n",
       "<style scoped>\n",
       "    .dataframe tbody tr th:only-of-type {\n",
       "        vertical-align: middle;\n",
       "    }\n",
       "\n",
       "    .dataframe tbody tr th {\n",
       "        vertical-align: top;\n",
       "    }\n",
       "\n",
       "    .dataframe thead th {\n",
       "        text-align: right;\n",
       "    }\n",
       "</style>\n",
       "<table border=\"1\" class=\"dataframe\">\n",
       "  <thead>\n",
       "    <tr style=\"text-align: right;\">\n",
       "      <th></th>\n",
       "      <th>Missing ratio</th>\n",
       "    </tr>\n",
       "  </thead>\n",
       "  <tbody>\n",
       "    <tr>\n",
       "      <th>h1_bilirubin_min</th>\n",
       "      <td>0.920896</td>\n",
       "    </tr>\n",
       "    <tr>\n",
       "      <th>h1_bilirubin_max</th>\n",
       "      <td>0.920896</td>\n",
       "    </tr>\n",
       "    <tr>\n",
       "      <th>h1_albumin_min</th>\n",
       "      <td>0.914319</td>\n",
       "    </tr>\n",
       "    <tr>\n",
       "      <th>h1_albumin_max</th>\n",
       "      <td>0.914319</td>\n",
       "    </tr>\n",
       "    <tr>\n",
       "      <th>h1_lactate_min</th>\n",
       "      <td>0.910185</td>\n",
       "    </tr>\n",
       "    <tr>\n",
       "      <th>...</th>\n",
       "      <td>...</td>\n",
       "    </tr>\n",
       "    <tr>\n",
       "      <th>pre_icu_los_days</th>\n",
       "      <td>0.000000</td>\n",
       "    </tr>\n",
       "    <tr>\n",
       "      <th>readmission_status</th>\n",
       "      <td>0.000000</td>\n",
       "    </tr>\n",
       "    <tr>\n",
       "      <th>apache_post_operative</th>\n",
       "      <td>0.000000</td>\n",
       "    </tr>\n",
       "    <tr>\n",
       "      <th>arf_apache</th>\n",
       "      <td>0.000000</td>\n",
       "    </tr>\n",
       "    <tr>\n",
       "      <th>solid_tumor_with_metastasis</th>\n",
       "      <td>0.000000</td>\n",
       "    </tr>\n",
       "  </tbody>\n",
       "</table>\n",
       "<p>177 rows × 1 columns</p>\n",
       "</div>"
      ],
      "text/plain": [
       "                             Missing ratio\n",
       "h1_bilirubin_min                  0.920896\n",
       "h1_bilirubin_max                  0.920896\n",
       "h1_albumin_min                    0.914319\n",
       "h1_albumin_max                    0.914319\n",
       "h1_lactate_min                    0.910185\n",
       "...                                    ...\n",
       "pre_icu_los_days                  0.000000\n",
       "readmission_status                0.000000\n",
       "apache_post_operative             0.000000\n",
       "arf_apache                        0.000000\n",
       "solid_tumor_with_metastasis       0.000000\n",
       "\n",
       "[177 rows x 1 columns]"
      ]
     },
     "execution_count": 12,
     "metadata": {},
     "output_type": "execute_result"
    }
   ],
   "source": [
    "missing_values=pd.DataFrame(X_train.isnull().sum()/(X_train.shape[0]))\n",
    "missing_values.columns=['Missing ratio']\n",
    "missing_values.sort_values(by='Missing ratio',ascending=False)"
   ]
  },
  {
   "cell_type": "markdown",
   "id": "c4390b9c",
   "metadata": {},
   "source": [
    "The above table shows the ratio of missing values in each of the columns of our training data. We need to handle these missing data.\n",
    "\n",
    "For the columns having a lot of missing values(say, greater than 60 percent of total rows) we drop that column overall. For the rest missing values we simply drop that row"
   ]
  },
  {
   "cell_type": "code",
   "execution_count": 13,
   "id": "6136b1c6",
   "metadata": {},
   "outputs": [
    {
     "name": "stdout",
     "output_type": "stream",
     "text": [
      "(130157, 110) (10234, 110)\n"
     ]
    },
    {
     "data": {
      "text/html": [
       "<div>\n",
       "<style scoped>\n",
       "    .dataframe tbody tr th:only-of-type {\n",
       "        vertical-align: middle;\n",
       "    }\n",
       "\n",
       "    .dataframe tbody tr th {\n",
       "        vertical-align: top;\n",
       "    }\n",
       "\n",
       "    .dataframe thead th {\n",
       "        text-align: right;\n",
       "    }\n",
       "</style>\n",
       "<table border=\"1\" class=\"dataframe\">\n",
       "  <thead>\n",
       "    <tr style=\"text-align: right;\">\n",
       "      <th></th>\n",
       "      <th>index</th>\n",
       "      <th>0</th>\n",
       "    </tr>\n",
       "  </thead>\n",
       "  <tbody>\n",
       "    <tr>\n",
       "      <th>0</th>\n",
       "      <td>age</td>\n",
       "      <td>74</td>\n",
       "    </tr>\n",
       "    <tr>\n",
       "      <th>1</th>\n",
       "      <td>bmi</td>\n",
       "      <td>4767</td>\n",
       "    </tr>\n",
       "    <tr>\n",
       "      <th>2</th>\n",
       "      <td>elective_surgery</td>\n",
       "      <td>2</td>\n",
       "    </tr>\n",
       "    <tr>\n",
       "      <th>3</th>\n",
       "      <td>ethnicity</td>\n",
       "      <td>6</td>\n",
       "    </tr>\n",
       "    <tr>\n",
       "      <th>4</th>\n",
       "      <td>gender</td>\n",
       "      <td>2</td>\n",
       "    </tr>\n",
       "    <tr>\n",
       "      <th>...</th>\n",
       "      <td>...</td>\n",
       "      <td>...</td>\n",
       "    </tr>\n",
       "    <tr>\n",
       "      <th>105</th>\n",
       "      <td>hepatic_failure</td>\n",
       "      <td>2</td>\n",
       "    </tr>\n",
       "    <tr>\n",
       "      <th>106</th>\n",
       "      <td>immunosuppression</td>\n",
       "      <td>2</td>\n",
       "    </tr>\n",
       "    <tr>\n",
       "      <th>107</th>\n",
       "      <td>leukemia</td>\n",
       "      <td>2</td>\n",
       "    </tr>\n",
       "    <tr>\n",
       "      <th>108</th>\n",
       "      <td>lymphoma</td>\n",
       "      <td>2</td>\n",
       "    </tr>\n",
       "    <tr>\n",
       "      <th>109</th>\n",
       "      <td>solid_tumor_with_metastasis</td>\n",
       "      <td>2</td>\n",
       "    </tr>\n",
       "  </tbody>\n",
       "</table>\n",
       "<p>110 rows × 2 columns</p>\n",
       "</div>"
      ],
      "text/plain": [
       "                           index     0\n",
       "0                            age    74\n",
       "1                            bmi  4767\n",
       "2               elective_surgery     2\n",
       "3                      ethnicity     6\n",
       "4                         gender     2\n",
       "..                           ...   ...\n",
       "105              hepatic_failure     2\n",
       "106            immunosuppression     2\n",
       "107                     leukemia     2\n",
       "108                     lymphoma     2\n",
       "109  solid_tumor_with_metastasis     2\n",
       "\n",
       "[110 rows x 2 columns]"
      ]
     },
     "execution_count": 13,
     "metadata": {},
     "output_type": "execute_result"
    }
   ],
   "source": [
    "col_features=missing_values[missing_values['Missing ratio']>0.6].index\n",
    "x_train=X_train.drop(labels=col_features,axis=1)\n",
    "x_test=X_test.drop(labels=col_features,axis=1)\n",
    "\n",
    "print(x_train.shape,x_test.shape)\n",
    "x_train.dropna().nunique().reset_index()"
   ]
  },
  {
   "cell_type": "markdown",
   "id": "5445a815",
   "metadata": {},
   "source": [
    "Next, we examine if there are any columns which consist of only one or two values for all rows, and then remove these columns as they won't be helpful in making predictions"
   ]
  },
  {
   "cell_type": "code",
   "execution_count": 14,
   "id": "f685d65f",
   "metadata": {},
   "outputs": [
    {
     "data": {
      "text/plain": [
       "['readmission_status', 'gcs_unable_apache']"
      ]
     },
     "execution_count": 14,
     "metadata": {},
     "output_type": "execute_result"
    }
   ],
   "source": [
    "count_values = x_train.dropna().nunique().reset_index()\n",
    "useless_features = count_values[count_values[0]<2][\"index\"].to_list()\n",
    "\n",
    "useless_features"
   ]
  },
  {
   "cell_type": "markdown",
   "id": "28f131be",
   "metadata": {},
   "source": [
    "We see that there are two such features. We remove these from our training data"
   ]
  },
  {
   "cell_type": "code",
   "execution_count": 15,
   "id": "4052cdf8",
   "metadata": {},
   "outputs": [],
   "source": [
    "x_train.drop(columns=useless_features, inplace = True)\n",
    "x_test.drop(columns=useless_features, inplace = True)"
   ]
  },
  {
   "cell_type": "code",
   "execution_count": 16,
   "id": "faeda6df",
   "metadata": {},
   "outputs": [
    {
     "name": "stdout",
     "output_type": "stream",
     "text": [
      "(130157, 108) (10234, 108)\n"
     ]
    }
   ],
   "source": [
    "print(x_train.shape,x_test.shape)"
   ]
  },
  {
   "cell_type": "markdown",
   "id": "5cfe08cf",
   "metadata": {},
   "source": [
    "Our dataset now consists of 108 features"
   ]
  },
  {
   "cell_type": "markdown",
   "id": "24153685",
   "metadata": {},
   "source": [
    "Next, we analyze the type of features that we have; i.e, we count the number of categorical and numerical features we have in the dataset"
   ]
  },
  {
   "cell_type": "code",
   "execution_count": 17,
   "id": "18f7dbbc",
   "metadata": {},
   "outputs": [],
   "source": [
    "categorical_features=[]\n",
    "numerical_features=[]\n",
    "for features in x_train.columns:\n",
    "    if (x_train[features]).dtype=='O':\n",
    "        categorical_features.append(features)\n",
    "    elif (x_train[features]).dtype=='int' or (x_train[features]).dtype=='float':\n",
    "        numerical_features.append(features)"
   ]
  },
  {
   "cell_type": "code",
   "execution_count": 18,
   "id": "41ba1cc1",
   "metadata": {},
   "outputs": [
    {
     "name": "stdout",
     "output_type": "stream",
     "text": [
      "6\n",
      "89\n"
     ]
    }
   ],
   "source": [
    "print(len(categorical_features))\n",
    "print(len(numerical_features))"
   ]
  },
  {
   "cell_type": "markdown",
   "id": "39bcd7f7",
   "metadata": {},
   "source": [
    "Next, we convert the categorical values into dummy/indicator variables"
   ]
  },
  {
   "cell_type": "code",
   "execution_count": 19,
   "id": "63823c40",
   "metadata": {},
   "outputs": [
    {
     "name": "stdout",
     "output_type": "stream",
     "text": [
      "(130157, 147) (10234, 142)\n"
     ]
    }
   ],
   "source": [
    "df=pd.get_dummies(x_train[categorical_features])\n",
    "x_train=pd.concat([x_train,df],axis=1)\n",
    "df2=pd.get_dummies(x_test[categorical_features])\n",
    "x_test=pd.concat([x_test,df2],axis=1)\n",
    "\n",
    "print(x_train.shape,x_test.shape)"
   ]
  },
  {
   "cell_type": "markdown",
   "id": "158634e6",
   "metadata": {},
   "source": [
    "We need to remove the columns which are appearing in X_train but not X_test"
   ]
  },
  {
   "cell_type": "code",
   "execution_count": 20,
   "id": "0ba33bf1",
   "metadata": {},
   "outputs": [],
   "source": [
    "column=[]\n",
    "for i in x_train.columns:\n",
    "    if i not in x_test.columns:\n",
    "        column.append(i)\n",
    "        \n",
    "column\n",
    "x_train=x_train.drop(labels=column,axis=1)"
   ]
  },
  {
   "cell_type": "code",
   "execution_count": 21,
   "id": "a93e17ef",
   "metadata": {},
   "outputs": [],
   "source": [
    "x_train=x_train.drop(labels=categorical_features,axis=1)\n",
    "x_test=x_test.drop(labels=categorical_features,axis=1)"
   ]
  },
  {
   "cell_type": "code",
   "execution_count": 22,
   "id": "d82ad70e",
   "metadata": {},
   "outputs": [
    {
     "data": {
      "text/plain": [
       "(130157, 136)"
      ]
     },
     "execution_count": 22,
     "metadata": {},
     "output_type": "execute_result"
    }
   ],
   "source": [
    "x_train.shape"
   ]
  },
  {
   "cell_type": "markdown",
   "id": "4816bf6b",
   "metadata": {},
   "source": [
    "Now we will fill the missing values in the numerical columns with the mean of the remaining values in that column"
   ]
  },
  {
   "cell_type": "code",
   "execution_count": 23,
   "id": "a93aff8c",
   "metadata": {},
   "outputs": [],
   "source": [
    "for i in x_train.columns:\n",
    "    if (x_train[i]).dtype=='int32' or(x_train[i]).dtype=='float64' :\n",
    "        x_train[i] =x_train[i].fillna(x_train[i].mean())\n",
    "        x_test[i]=x_test[i].fillna(x_train[i].mean())"
   ]
  },
  {
   "cell_type": "markdown",
   "id": "363bf55a",
   "metadata": {},
   "source": [
    "Let us split the data into train and validation set now"
   ]
  },
  {
   "cell_type": "code",
   "execution_count": 24,
   "id": "1af1217f",
   "metadata": {},
   "outputs": [
    {
     "name": "stdout",
     "output_type": "stream",
     "text": [
      "(91109, 136) (39048, 136)\n"
     ]
    }
   ],
   "source": [
    "X_train,X_val,Y_train,Y_val=train_test_split(x_train,y_train,test_size=0.3,stratify=y_train)\n",
    "print(X_train.shape,X_val.shape)"
   ]
  },
  {
   "cell_type": "markdown",
   "id": "ac96fe68",
   "metadata": {},
   "source": [
    "## Modeling"
   ]
  },
  {
   "cell_type": "markdown",
   "id": "98255213",
   "metadata": {},
   "source": [
    "The first model that we fit is the Random Forest Classifier. Our main objective behind this is to get an idea about the relative feature importances so that we will be able to use only the important features for our next models"
   ]
  },
  {
   "cell_type": "code",
   "execution_count": 25,
   "id": "5312dda2",
   "metadata": {},
   "outputs": [],
   "source": [
    "from sklearn.ensemble import RandomForestClassifier"
   ]
  },
  {
   "cell_type": "code",
   "execution_count": 26,
   "id": "f5042a1e",
   "metadata": {},
   "outputs": [],
   "source": [
    "clf=RandomForestClassifier(n_estimators=200,verbose=2,n_jobs=-1,random_state=42,class_weight='balanced')"
   ]
  },
  {
   "cell_type": "code",
   "execution_count": 27,
   "id": "afb28ed5",
   "metadata": {},
   "outputs": [
    {
     "name": "stderr",
     "output_type": "stream",
     "text": [
      "[Parallel(n_jobs=-1)]: Using backend ThreadingBackend with 8 concurrent workers.\n"
     ]
    },
    {
     "name": "stdout",
     "output_type": "stream",
     "text": [
      "building tree 1 of 200building tree 2 of 200\n",
      "building tree 3 of 200\n",
      "\n",
      "building tree 4 of 200\n",
      "building tree 5 of 200\n",
      "building tree 6 of 200building tree 7 of 200building tree 8 of 200\n",
      "\n",
      "\n",
      "building tree 9 of 200\n",
      "building tree 10 of 200\n",
      "building tree 11 of 200\n",
      "building tree 12 of 200\n",
      "building tree 13 of 200\n",
      "building tree 14 of 200\n",
      "building tree 15 of 200\n",
      "building tree 16 of 200\n",
      "building tree 17 of 200\n",
      "building tree 18 of 200\n",
      "building tree 19 of 200\n",
      "building tree 20 of 200\n",
      "building tree 21 of 200\n",
      "building tree 22 of 200\n",
      "building tree 23 of 200\n",
      "building tree 24 of 200\n",
      "building tree 25 of 200\n",
      "building tree 26 of 200\n",
      "building tree 27 of 200\n",
      "building tree 28 of 200\n",
      "building tree 29 of 200\n",
      "building tree 30 of 200\n",
      "building tree 31 of 200\n",
      "building tree 32 of 200\n",
      "building tree 33 of 200\n",
      "building tree 34 of 200\n",
      "building tree 35 of 200\n",
      "building tree 36 of 200\n"
     ]
    },
    {
     "name": "stderr",
     "output_type": "stream",
     "text": [
      "[Parallel(n_jobs=-1)]: Done  25 tasks      | elapsed:    6.1s\n"
     ]
    },
    {
     "name": "stdout",
     "output_type": "stream",
     "text": [
      "building tree 37 of 200\n",
      "building tree 38 of 200\n",
      "building tree 39 of 200\n",
      "building tree 40 of 200\n",
      "building tree 41 of 200\n",
      "building tree 42 of 200\n",
      "building tree 43 of 200\n",
      "building tree 44 of 200\n",
      "building tree 45 of 200\n",
      "building tree 46 of 200\n",
      "building tree 47 of 200\n",
      "building tree 48 of 200\n",
      "building tree 49 of 200\n",
      "building tree 50 of 200\n",
      "building tree 51 of 200\n",
      "building tree 52 of 200\n",
      "building tree 53 of 200\n",
      "building tree 54 of 200\n",
      "building tree 55 of 200\n",
      "building tree 56 of 200\n",
      "building tree 57 of 200\n",
      "building tree 58 of 200\n",
      "building tree 59 of 200\n",
      "building tree 60 of 200\n",
      "building tree 61 of 200\n",
      "building tree 62 of 200\n",
      "building tree 63 of 200\n",
      "building tree 64 of 200\n",
      "building tree 65 of 200\n",
      "building tree 66 of 200\n",
      "building tree 67 of 200\n",
      "building tree 68 of 200\n",
      "building tree 69 of 200\n",
      "building tree 70 of 200\n",
      "building tree 71 of 200\n",
      "building tree 72 of 200\n",
      "building tree 73 of 200\n",
      "building tree 74 of 200\n",
      "building tree 75 of 200\n",
      "building tree 76 of 200\n",
      "building tree 77 of 200\n",
      "building tree 78 of 200\n",
      "building tree 79 of 200\n",
      "building tree 80 of 200\n",
      "building tree 81 of 200\n",
      "building tree 82 of 200\n",
      "building tree 83 of 200\n",
      "building tree 84 of 200\n",
      "building tree 85 of 200\n",
      "building tree 86 of 200\n",
      "building tree 87 of 200\n",
      "building tree 88 of 200\n",
      "building tree 89 of 200\n",
      "building tree 90 of 200\n",
      "building tree 91 of 200\n",
      "building tree 92 of 200\n",
      "building tree 93 of 200\n",
      "building tree 94 of 200\n",
      "building tree 95 of 200\n",
      "building tree 96 of 200\n",
      "building tree 97 of 200\n",
      "building tree 98 of 200\n",
      "building tree 99 of 200\n",
      "building tree 100 of 200\n",
      "building tree 101 of 200\n",
      "building tree 102 of 200\n",
      "building tree 103 of 200\n",
      "building tree 104 of 200\n",
      "building tree 105 of 200\n",
      "building tree 106 of 200\n",
      "building tree 107 of 200\n",
      "building tree 108 of 200\n",
      "building tree 109 of 200\n",
      "building tree 110 of 200\n",
      "building tree 111 of 200\n",
      "building tree 112 of 200\n",
      "building tree 113 of 200\n",
      "building tree 114 of 200\n",
      "building tree 115 of 200\n",
      "building tree 116 of 200\n",
      "building tree 117 of 200\n",
      "building tree 118 of 200\n",
      "building tree 119 of 200\n",
      "building tree 120 of 200\n",
      "building tree 121 of 200\n",
      "building tree 122 of 200\n",
      "building tree 123 of 200\n",
      "building tree 124 of 200\n",
      "building tree 125 of 200\n",
      "building tree 126 of 200\n",
      "building tree 127 of 200\n",
      "building tree 128 of 200\n",
      "building tree 129 of 200\n",
      "building tree 130 of 200\n",
      "building tree 131 of 200\n",
      "building tree 132 of 200\n",
      "building tree 133 of 200\n",
      "building tree 134 of 200\n",
      "building tree 135 of 200\n",
      "building tree 136 of 200\n",
      "building tree 137 of 200\n",
      "building tree 138 of 200\n",
      "building tree 139 of 200\n",
      "building tree 140 of 200\n",
      "building tree 141 of 200\n",
      "building tree 142 of 200\n",
      "building tree 143 of 200\n",
      "building tree 144 of 200\n",
      "building tree 145 of 200\n",
      "building tree 146 of 200\n",
      "building tree 147 of 200\n",
      "building tree 148 of 200\n",
      "building tree 149 of 200\n",
      "building tree 150 of 200\n",
      "building tree 151 of 200\n",
      "building tree 152 of 200\n",
      "building tree 153 of 200\n",
      "building tree 154 of 200\n",
      "building tree 155 of 200\n",
      "building tree 156 of 200\n",
      "building tree 157 of 200\n"
     ]
    },
    {
     "name": "stderr",
     "output_type": "stream",
     "text": [
      "[Parallel(n_jobs=-1)]: Done 146 tasks      | elapsed:   33.8s\n"
     ]
    },
    {
     "name": "stdout",
     "output_type": "stream",
     "text": [
      "building tree 158 of 200\n",
      "building tree 159 of 200\n",
      "building tree 160 of 200\n",
      "building tree 161 of 200\n",
      "building tree 162 of 200\n",
      "building tree 163 of 200\n",
      "building tree 164 of 200\n",
      "building tree 165 of 200\n",
      "building tree 166 of 200\n",
      "building tree 167 of 200\n",
      "building tree 168 of 200\n",
      "building tree 169 of 200\n",
      "building tree 170 of 200\n",
      "building tree 171 of 200\n",
      "building tree 172 of 200\n",
      "building tree 173 of 200\n",
      "building tree 174 of 200\n",
      "building tree 175 of 200\n",
      "building tree 176 of 200\n",
      "building tree 177 of 200\n",
      "building tree 178 of 200\n",
      "building tree 179 of 200\n",
      "building tree 180 of 200\n",
      "building tree 181 of 200\n",
      "building tree 182 of 200\n",
      "building tree 183 of 200\n",
      "building tree 184 of 200\n",
      "building tree 185 of 200\n",
      "building tree 186 of 200\n",
      "building tree 187 of 200\n",
      "building tree 188 of 200\n",
      "building tree 189 of 200\n",
      "building tree 190 of 200\n",
      "building tree 191 of 200\n",
      "building tree 192 of 200\n",
      "building tree 193 of 200\n",
      "building tree 194 of 200\n",
      "building tree 195 of 200\n",
      "building tree 196 of 200\n",
      "building tree 197 of 200\n",
      "building tree 198 of 200\n",
      "building tree 199 of 200\n",
      "building tree 200 of 200\n"
     ]
    },
    {
     "name": "stderr",
     "output_type": "stream",
     "text": [
      "[Parallel(n_jobs=-1)]: Done 200 out of 200 | elapsed:   44.6s finished\n"
     ]
    },
    {
     "data": {
      "text/plain": [
       "RandomForestClassifier(class_weight='balanced', n_estimators=200, n_jobs=-1,\n",
       "                       random_state=42, verbose=2)"
      ]
     },
     "execution_count": 27,
     "metadata": {},
     "output_type": "execute_result"
    }
   ],
   "source": [
    "clf.fit(X_train,Y_train)"
   ]
  },
  {
   "cell_type": "code",
   "execution_count": 28,
   "id": "63767685",
   "metadata": {},
   "outputs": [],
   "source": [
    "feature_importances={}\n",
    "for i,j in enumerate(X_train.columns):\n",
    "    feature_importances[j]=clf.feature_importances_[i]"
   ]
  },
  {
   "cell_type": "code",
   "execution_count": 29,
   "id": "07b29234",
   "metadata": {},
   "outputs": [
    {
     "data": {
      "text/plain": [
       "{'age': 0.01777329435201717,\n",
       " 'bmi': 0.026271348274364316,\n",
       " 'elective_surgery': 0.000796963705390643,\n",
       " 'height': 0.008658569702626634,\n",
       " 'icu_id': 0.011046075100354373,\n",
       " 'pre_icu_los_days': 0.01046661074104076,\n",
       " 'weight': 0.020863398960238984,\n",
       " 'apache_2_diagnosis': 0.010042960065898538,\n",
       " 'apache_3j_diagnosis': 0.009976613953765387,\n",
       " 'apache_post_operative': 0.0008540408600786368,\n",
       " 'arf_apache': 0.002443550215016735,\n",
       " 'bun_apache': 0.00994465488914561,\n",
       " 'creatinine_apache': 0.01193927087920986,\n",
       " 'gcs_eyes_apache': 0.0028376014184987213,\n",
       " 'gcs_motor_apache': 0.0029368329546219187,\n",
       " 'gcs_verbal_apache': 0.003076464752743441,\n",
       " 'glucose_apache': 0.07272302966195786,\n",
       " 'heart_rate_apache': 0.00999059560944461,\n",
       " 'hematocrit_apache': 0.008360294127893964,\n",
       " 'intubated_apache': 0.0013752192005106433,\n",
       " 'map_apache': 0.00839180740570297,\n",
       " 'resprate_apache': 0.0080295797005415,\n",
       " 'sodium_apache': 0.006778631132202839,\n",
       " 'temp_apache': 0.0076877470026628265,\n",
       " 'urineoutput_apache': 0.007993041953694805,\n",
       " 'ventilated_apache': 0.0022591150985651733,\n",
       " 'wbc_apache': 0.009170594907821189,\n",
       " 'd1_diasbp_max': 0.007951989522737643,\n",
       " 'd1_diasbp_min': 0.007713080405810154,\n",
       " 'd1_diasbp_noninvasive_max': 0.007790165210947117,\n",
       " 'd1_diasbp_noninvasive_min': 0.007631679121020997,\n",
       " 'd1_heartrate_max': 0.009771120905413246,\n",
       " 'd1_heartrate_min': 0.009038941083796461,\n",
       " 'd1_mbp_max': 0.0074358399873355905,\n",
       " 'd1_mbp_min': 0.007309011553379727,\n",
       " 'd1_mbp_noninvasive_max': 0.007439969437814918,\n",
       " 'd1_mbp_noninvasive_min': 0.007336655407567653,\n",
       " 'd1_resprate_max': 0.007750255103404575,\n",
       " 'd1_resprate_min': 0.007419271616872941,\n",
       " 'd1_spo2_max': 0.0028795559067535986,\n",
       " 'd1_spo2_min': 0.0074777633304455,\n",
       " 'd1_sysbp_max': 0.009363884980907086,\n",
       " 'd1_sysbp_min': 0.00836910868435361,\n",
       " 'd1_sysbp_noninvasive_max': 0.00933557617373969,\n",
       " 'd1_sysbp_noninvasive_min': 0.008309130247429101,\n",
       " 'd1_temp_max': 0.0078073707552623935,\n",
       " 'd1_temp_min': 0.00758978306867691,\n",
       " 'h1_diasbp_max': 0.007761532132534422,\n",
       " 'h1_diasbp_min': 0.008080439111727438,\n",
       " 'h1_diasbp_noninvasive_max': 0.007474778729705512,\n",
       " 'h1_diasbp_noninvasive_min': 0.0077846965134563744,\n",
       " 'h1_heartrate_max': 0.008999181631935527,\n",
       " 'h1_heartrate_min': 0.008839177402751634,\n",
       " 'h1_mbp_max': 0.007092557612160113,\n",
       " 'h1_mbp_min': 0.0070684978451365085,\n",
       " 'h1_mbp_noninvasive_max': 0.006906110192480118,\n",
       " 'h1_mbp_noninvasive_min': 0.006851095307371284,\n",
       " 'h1_resprate_max': 0.0075985630247222165,\n",
       " 'h1_resprate_min': 0.007601600465675142,\n",
       " 'h1_spo2_max': 0.004771496086798243,\n",
       " 'h1_spo2_min': 0.00612441945031813,\n",
       " 'h1_sysbp_max': 0.008333982628121756,\n",
       " 'h1_sysbp_min': 0.007971316662442015,\n",
       " 'h1_sysbp_noninvasive_max': 0.007794572036838052,\n",
       " 'h1_sysbp_noninvasive_min': 0.007514847144853752,\n",
       " 'h1_temp_max': 0.007133099106423433,\n",
       " 'h1_temp_min': 0.006990720858291418,\n",
       " 'd1_albumin_max': 0.005070105354059534,\n",
       " 'd1_albumin_min': 0.005110263849555879,\n",
       " 'd1_bilirubin_max': 0.004869741071907518,\n",
       " 'd1_bilirubin_min': 0.00474534690687868,\n",
       " 'd1_bun_max': 0.011615666316563513,\n",
       " 'd1_bun_min': 0.010389512468988468,\n",
       " 'd1_calcium_max': 0.007662543521328072,\n",
       " 'd1_calcium_min': 0.00869120632203636,\n",
       " 'd1_creatinine_max': 0.012933631223079195,\n",
       " 'd1_creatinine_min': 0.014914755741712775,\n",
       " 'd1_glucose_max': 0.10088448253490995,\n",
       " 'd1_glucose_min': 0.023839286053594984,\n",
       " 'd1_hco3_max': 0.006804981014003929,\n",
       " 'd1_hco3_min': 0.00807649536341012,\n",
       " 'd1_hemaglobin_max': 0.010035837340436659,\n",
       " 'd1_hemaglobin_min': 0.008642658298630186,\n",
       " 'd1_hematocrit_max': 0.009495907817039826,\n",
       " 'd1_hematocrit_min': 0.008849294777748089,\n",
       " 'd1_platelets_max': 0.008832591416763468,\n",
       " 'd1_platelets_min': 0.009469747494836969,\n",
       " 'd1_potassium_max': 0.008375479200757405,\n",
       " 'd1_potassium_min': 0.007597784967213254,\n",
       " 'd1_sodium_max': 0.006907354852760958,\n",
       " 'd1_sodium_min': 0.006806465002193717,\n",
       " 'd1_wbc_max': 0.009729438771505141,\n",
       " 'd1_wbc_min': 0.009110089320350918,\n",
       " 'h1_glucose_max': 0.024829207504993362,\n",
       " 'h1_glucose_min': 0.02379109532688551,\n",
       " 'aids': 1.2980302082913847e-05,\n",
       " 'cirrhosis': 0.00039789320387215063,\n",
       " 'hepatic_failure': 0.00028205168842270807,\n",
       " 'immunosuppression': 0.00045609721398208165,\n",
       " 'leukemia': 0.00019966354187459965,\n",
       " 'lymphoma': 0.00012094651389923185,\n",
       " 'solid_tumor_with_metastasis': 0.0003914269804979688,\n",
       " 'ethnicity_African American': 0.0010933328752357483,\n",
       " 'ethnicity_Asian': 0.0005395968561790925,\n",
       " 'ethnicity_Caucasian': 0.0017702023919187048,\n",
       " 'ethnicity_Hispanic': 0.0005973413981004852,\n",
       " 'ethnicity_Native American': 0.00023526235168904057,\n",
       " 'ethnicity_Other/Unknown': 0.0006638164041292294,\n",
       " 'gender_F': 0.0010249979221459312,\n",
       " 'gender_M': 0.0010266356063103413,\n",
       " 'hospital_admit_source_Chest Pain Center': 0.00010552308799733994,\n",
       " 'hospital_admit_source_Direct Admit': 0.0006791594182596557,\n",
       " 'hospital_admit_source_Emergency Department': 0.0010893272190566888,\n",
       " 'hospital_admit_source_Floor': 0.0007440630801586135,\n",
       " 'hospital_admit_source_ICU to SDU': 2.6510312983692872e-05,\n",
       " 'hospital_admit_source_Operating Room': 0.0007564491637097266,\n",
       " 'hospital_admit_source_Other Hospital': 0.000377051747558726,\n",
       " 'hospital_admit_source_Other ICU': 0.00010576657133232982,\n",
       " 'hospital_admit_source_Recovery Room': 0.0005424394895126979,\n",
       " 'hospital_admit_source_Step-Down Unit (SDU)': 0.00026069652136727497,\n",
       " 'icu_admit_source_Accident & Emergency': 0.0010214937834762295,\n",
       " 'icu_admit_source_Floor': 0.0008568874844295885,\n",
       " 'icu_admit_source_Operating Room / Recovery': 0.0009467589662142565,\n",
       " 'icu_admit_source_Other Hospital': 0.0004857916568229868,\n",
       " 'icu_admit_source_Other ICU': 0.00022311436366211432,\n",
       " 'icu_stay_type_admit': 0.0005641296840891653,\n",
       " 'icu_stay_type_readmit': 0.0002305095362536251,\n",
       " 'icu_stay_type_transfer': 0.0005419627548425206,\n",
       " 'icu_type_CCU-CTICU': 0.0008385076825184395,\n",
       " 'icu_type_CSICU': 0.0007567980998858017,\n",
       " 'icu_type_CTICU': 0.00061026914836269,\n",
       " 'icu_type_Cardiac ICU': 0.0007468412937553971,\n",
       " 'icu_type_MICU': 0.0007728306803149687,\n",
       " 'icu_type_Med-Surg ICU': 0.0011434415640235926,\n",
       " 'icu_type_Neuro ICU': 0.0008048376103850262,\n",
       " 'icu_type_SICU': 0.0007748809211201651}"
      ]
     },
     "execution_count": 29,
     "metadata": {},
     "output_type": "execute_result"
    }
   ],
   "source": [
    "feature_importances"
   ]
  },
  {
   "cell_type": "code",
   "execution_count": 30,
   "id": "d60ba4b9",
   "metadata": {},
   "outputs": [],
   "source": [
    "feature_importances_df=pd.DataFrame.from_dict(feature_importances,orient='index')"
   ]
  },
  {
   "cell_type": "code",
   "execution_count": 31,
   "id": "d4ef2e6b",
   "metadata": {},
   "outputs": [],
   "source": [
    "feature_importances_df.columns=['Significance value']"
   ]
  },
  {
   "cell_type": "code",
   "execution_count": 32,
   "id": "8a3100fd",
   "metadata": {},
   "outputs": [
    {
     "data": {
      "text/plain": [
       "<AxesSubplot:>"
      ]
     },
     "execution_count": 32,
     "metadata": {},
     "output_type": "execute_result"
    },
    {
     "data": {
      "image/png": "[encoded data removed]",
      "text/plain": [
       "<Figure size 1440x288 with 1 Axes>"
      ]
     },
     "metadata": {
      "needs_background": "light"
     },
     "output_type": "display_data"
    }
   ],
   "source": [
    "feature_importances_df.sort_values(by='Significance value',ascending=False).plot(kind='bar',figsize=(20, 4))"
   ]
  },
  {
   "cell_type": "markdown",
   "id": "4a044acf",
   "metadata": {},
   "source": [
    "The above plot shows the relative feature importances of all the features. Notice how the importances decrease drastically as we move across the x axis. We thus decide to use only the top 10 features for training our next models. However, this is a parameter which could be changed."
   ]
  },
  {
   "cell_type": "code",
   "execution_count": 33,
   "id": "0652c583",
   "metadata": {},
   "outputs": [],
   "source": [
    "feature_selected=feature_importances_df.sort_values(by='Significance value',ascending=False).index[0:10]"
   ]
  },
  {
   "cell_type": "code",
   "execution_count": 34,
   "id": "8846e1ca",
   "metadata": {},
   "outputs": [
    {
     "data": {
      "text/plain": [
       "Index(['d1_glucose_max', 'glucose_apache', 'bmi', 'h1_glucose_max',\n",
       "       'd1_glucose_min', 'h1_glucose_min', 'weight', 'age',\n",
       "       'd1_creatinine_min', 'd1_creatinine_max'],\n",
       "      dtype='object')"
      ]
     },
     "execution_count": 34,
     "metadata": {},
     "output_type": "execute_result"
    }
   ],
   "source": [
    "feature_selected"
   ]
  },
  {
   "cell_type": "code",
   "execution_count": 35,
   "id": "415f34f5",
   "metadata": {},
   "outputs": [],
   "source": [
    "X_train_final=X_train[feature_selected]\n",
    "X_val_final=X_val[feature_selected]\n",
    "X_test_final=x_test[feature_selected]"
   ]
  },
  {
   "cell_type": "code",
   "execution_count": 36,
   "id": "5f749546",
   "metadata": {},
   "outputs": [
    {
     "name": "stdout",
     "output_type": "stream",
     "text": [
      "(91109, 10) (39048, 10) (10234, 10)\n"
     ]
    }
   ],
   "source": [
    "print(X_train_final.shape,X_val_final.shape,X_test_final.shape)"
   ]
  },
  {
   "cell_type": "markdown",
   "id": "087cf620",
   "metadata": {},
   "source": [
    "These are the final shapes of training, validation and test datasets that we will use. Now we will train our various models on this data and analyze the results"
   ]
  },
  {
   "cell_type": "markdown",
   "id": "567263e3",
   "metadata": {},
   "source": [
    "## Model 1: Random Forest Classifier"
   ]
  },
  {
   "cell_type": "code",
   "execution_count": 37,
   "id": "5b876cbc",
   "metadata": {},
   "outputs": [
    {
     "name": "stderr",
     "output_type": "stream",
     "text": [
      "[Parallel(n_jobs=-1)]: Using backend ThreadingBackend with 8 concurrent workers.\n"
     ]
    },
    {
     "name": "stdout",
     "output_type": "stream",
     "text": [
      "building tree 1 of 300building tree 2 of 300\n",
      "building tree 3 of 300\n",
      "building tree 4 of 300\n",
      "\n",
      "building tree 5 of 300building tree 6 of 300\n",
      "building tree 7 of 300building tree 8 of 300\n",
      "\n",
      "\n",
      "building tree 9 of 300\n",
      "building tree 10 of 300building tree 11 of 300\n",
      "\n",
      "building tree 12 of 300\n",
      "building tree 13 of 300\n",
      "building tree 14 of 300\n",
      "building tree 15 of 300\n",
      "building tree 16 of 300\n",
      "building tree 17 of 300\n",
      "building tree 18 of 300\n",
      "building tree 19 of 300\n",
      "building tree 20 of 300\n",
      "building tree 21 of 300\n",
      "building tree 22 of 300\n",
      "building tree 23 of 300\n",
      "building tree 24 of 300\n",
      "building tree 25 of 300\n",
      "building tree 26 of 300\n",
      "building tree 27 of 300\n",
      "building tree 28 of 300\n",
      "building tree 29 of 300\n",
      "building tree 30 of 300\n",
      "building tree 31 of 300\n",
      "building tree 32 of 300\n",
      "building tree 33 of 300\n",
      "building tree 34 of 300\n"
     ]
    },
    {
     "name": "stderr",
     "output_type": "stream",
     "text": [
      "[Parallel(n_jobs=-1)]: Done  25 tasks      | elapsed:    2.3s\n"
     ]
    },
    {
     "name": "stdout",
     "output_type": "stream",
     "text": [
      "building tree 35 of 300\n",
      "building tree 36 of 300\n",
      "building tree 37 of 300\n",
      "building tree 38 of 300\n",
      "building tree 39 of 300\n",
      "building tree 40 of 300\n",
      "building tree 41 of 300\n",
      "building tree 42 of 300\n",
      "building tree 43 of 300\n",
      "building tree 44 of 300\n",
      "building tree 45 of 300\n",
      "building tree 46 of 300\n",
      "building tree 47 of 300\n",
      "building tree 48 of 300\n",
      "building tree 49 of 300\n",
      "building tree 50 of 300\n",
      "building tree 51 of 300\n",
      "building tree 52 of 300\n",
      "building tree 53 of 300\n",
      "building tree 54 of 300\n",
      "building tree 55 of 300\n",
      "building tree 56 of 300\n",
      "building tree 57 of 300\n",
      "building tree 58 of 300\n",
      "building tree 59 of 300\n",
      "building tree 60 of 300\n",
      "building tree 61 of 300\n",
      "building tree 62 of 300\n",
      "building tree 63 of 300\n",
      "building tree 64 of 300\n",
      "building tree 65 of 300\n",
      "building tree 66 of 300\n",
      "building tree 67 of 300\n",
      "building tree 68 of 300\n",
      "building tree 69 of 300\n",
      "building tree 70 of 300\n",
      "building tree 71 of 300\n",
      "building tree 72 of 300\n",
      "building tree 73 of 300\n",
      "building tree 74 of 300\n",
      "building tree 75 of 300\n",
      "building tree 76 of 300\n",
      "building tree 77 of 300\n",
      "building tree 78 of 300\n",
      "building tree 79 of 300\n",
      "building tree 80 of 300\n",
      "building tree 81 of 300\n",
      "building tree 82 of 300\n",
      "building tree 83 of 300\n",
      "building tree 84 of 300\n",
      "building tree 85 of 300\n",
      "building tree 86 of 300\n",
      "building tree 87 of 300\n",
      "building tree 88 of 300\n",
      "building tree 89 of 300\n",
      "building tree 90 of 300\n",
      "building tree 91 of 300\n",
      "building tree 92 of 300\n",
      "building tree 93 of 300\n",
      "building tree 94 of 300\n",
      "building tree 95 of 300\n",
      "building tree 96 of 300\n",
      "building tree 97 of 300\n",
      "building tree 98 of 300\n",
      "building tree 99 of 300\n",
      "building tree 100 of 300\n",
      "building tree 101 of 300\n",
      "building tree 102 of 300\n",
      "building tree 103 of 300\n",
      "building tree 104 of 300\n",
      "building tree 105 of 300\n",
      "building tree 106 of 300\n",
      "building tree 107 of 300\n",
      "building tree 108 of 300\n",
      "building tree 109 of 300\n",
      "building tree 110 of 300\n",
      "building tree 111 of 300\n",
      "building tree 112 of 300\n",
      "building tree 113 of 300\n",
      "building tree 114 of 300\n",
      "building tree 115 of 300\n",
      "building tree 116 of 300\n",
      "building tree 117 of 300\n",
      "building tree 118 of 300\n",
      "building tree 119 of 300\n",
      "building tree 120 of 300\n",
      "building tree 121 of 300\n",
      "building tree 122 of 300\n",
      "building tree 123 of 300\n",
      "building tree 124 of 300\n",
      "building tree 125 of 300\n",
      "building tree 126 of 300\n",
      "building tree 127 of 300\n",
      "building tree 128 of 300\n",
      "building tree 129 of 300\n",
      "building tree 130 of 300\n",
      "building tree 131 of 300\n",
      "building tree 132 of 300\n",
      "building tree 133 of 300\n",
      "building tree 134 of 300\n",
      "building tree 135 of 300\n",
      "building tree 136 of 300\n",
      "building tree 137 of 300\n",
      "building tree 138 of 300\n",
      "building tree 139 of 300\n",
      "building tree 140 of 300\n",
      "building tree 141 of 300\n",
      "building tree 142 of 300\n",
      "building tree 143 of 300\n",
      "building tree 144 of 300\n",
      "building tree 145 of 300\n",
      "building tree 146 of 300\n",
      "building tree 147 of 300\n",
      "building tree 148 of 300\n",
      "building tree 149 of 300\n",
      "building tree 150 of 300\n",
      "building tree 151 of 300\n",
      "building tree 152 of 300\n",
      "building tree 153 of 300\n",
      "building tree 154 of 300\n"
     ]
    },
    {
     "name": "stderr",
     "output_type": "stream",
     "text": [
      "[Parallel(n_jobs=-1)]: Done 146 tasks      | elapsed:   11.3s\n"
     ]
    },
    {
     "name": "stdout",
     "output_type": "stream",
     "text": [
      "building tree 155 of 300\n",
      "building tree 156 of 300\n",
      "building tree 157 of 300\n",
      "building tree 158 of 300\n",
      "building tree 159 of 300\n",
      "building tree 160 of 300\n",
      "building tree 161 of 300\n",
      "building tree 162 of 300\n",
      "building tree 163 of 300\n",
      "building tree 164 of 300\n",
      "building tree 165 of 300\n",
      "building tree 166 of 300\n",
      "building tree 167 of 300\n",
      "building tree 168 of 300\n",
      "building tree 169 of 300\n",
      "building tree 170 of 300\n",
      "building tree 171 of 300\n",
      "building tree 172 of 300\n",
      "building tree 173 of 300\n",
      "building tree 174 of 300\n",
      "building tree 175 of 300\n",
      "building tree 176 of 300\n",
      "building tree 177 of 300\n",
      "building tree 178 of 300\n",
      "building tree 179 of 300\n",
      "building tree 180 of 300\n",
      "building tree 181 of 300\n",
      "building tree 182 of 300\n",
      "building tree 183 of 300\n",
      "building tree 184 of 300\n",
      "building tree 185 of 300\n",
      "building tree 186 of 300\n",
      "building tree 187 of 300\n",
      "building tree 188 of 300\n",
      "building tree 189 of 300\n",
      "building tree 190 of 300\n",
      "building tree 191 of 300\n",
      "building tree 192 of 300\n",
      "building tree 193 of 300\n",
      "building tree 194 of 300\n",
      "building tree 195 of 300\n",
      "building tree 196 of 300\n",
      "building tree 197 of 300\n",
      "building tree 198 of 300\n",
      "building tree 199 of 300\n",
      "building tree 200 of 300\n",
      "building tree 201 of 300\n",
      "building tree 202 of 300\n",
      "building tree 203 of 300\n",
      "building tree 204 of 300\n",
      "building tree 205 of 300\n",
      "building tree 206 of 300\n",
      "building tree 207 of 300\n",
      "building tree 208 of 300\n",
      "building tree 209 of 300\n",
      "building tree 210 of 300\n",
      "building tree 211 of 300\n",
      "building tree 212 of 300\n",
      "building tree 213 of 300\n",
      "building tree 214 of 300\n",
      "building tree 215 of 300\n",
      "building tree 216 of 300\n",
      "building tree 217 of 300\n",
      "building tree 218 of 300\n",
      "building tree 219 of 300\n",
      "building tree 220 of 300\n",
      "building tree 221 of 300\n",
      "building tree 222 of 300\n",
      "building tree 223 of 300\n",
      "building tree 224 of 300\n",
      "building tree 225 of 300\n",
      "building tree 226 of 300\n",
      "building tree 227 of 300\n",
      "building tree 228 of 300\n",
      "building tree 229 of 300\n",
      "building tree 230 of 300\n",
      "building tree 231 of 300\n",
      "building tree 232 of 300\n",
      "building tree 233 of 300\n",
      "building tree 234 of 300\n",
      "building tree 235 of 300\n",
      "building tree 236 of 300\n",
      "building tree 237 of 300\n",
      "building tree 238 of 300\n",
      "building tree 239 of 300\n",
      "building tree 240 of 300\n",
      "building tree 241 of 300\n",
      "building tree 242 of 300\n",
      "building tree 243 of 300building tree 244 of 300\n",
      "\n",
      "building tree 245 of 300\n",
      "building tree 246 of 300\n",
      "building tree 247 of 300\n",
      "building tree 248 of 300\n",
      "building tree 249 of 300\n",
      "building tree 250 of 300\n",
      "building tree 251 of 300\n",
      "building tree 252 of 300\n",
      "building tree 253 of 300\n",
      "building tree 254 of 300\n",
      "building tree 255 of 300\n",
      "building tree 256 of 300\n",
      "building tree 257 of 300\n",
      "building tree 258 of 300\n",
      "building tree 259 of 300\n",
      "building tree 260 of 300\n",
      "building tree 261 of 300\n",
      "building tree 262 of 300\n",
      "building tree 263 of 300\n",
      "building tree 264 of 300\n",
      "building tree 265 of 300\n",
      "building tree 266 of 300\n",
      "building tree 267 of 300\n",
      "building tree 268 of 300\n",
      "building tree 269 of 300\n",
      "building tree 270 of 300\n",
      "building tree 271 of 300\n",
      "building tree 272 of 300\n",
      "building tree 273 of 300\n",
      "building tree 274 of 300\n",
      "building tree 275 of 300\n",
      "building tree 276 of 300\n",
      "building tree 277 of 300\n",
      "building tree 278 of 300\n",
      "building tree 279 of 300\n",
      "building tree 280 of 300\n",
      "building tree 281 of 300\n",
      "building tree 282 of 300\n",
      "building tree 283 of 300\n",
      "building tree 284 of 300\n",
      "building tree 285 of 300\n",
      "building tree 286 of 300\n",
      "building tree 287 of 300\n",
      "building tree 288 of 300\n",
      "building tree 289 of 300\n",
      "building tree 290 of 300\n",
      "building tree 291 of 300\n",
      "building tree 292 of 300\n",
      "building tree 293 of 300\n",
      "building tree 294 of 300\n",
      "building tree 295 of 300\n",
      "building tree 296 of 300\n",
      "building tree 297 of 300\n",
      "building tree 298 of 300\n",
      "building tree 299 of 300\n",
      "building tree 300 of 300\n"
     ]
    },
    {
     "name": "stderr",
     "output_type": "stream",
     "text": [
      "[Parallel(n_jobs=-1)]: Done 300 out of 300 | elapsed:   22.7s finished\n",
      "[Parallel(n_jobs=8)]: Using backend ThreadingBackend with 8 concurrent workers.\n",
      "[Parallel(n_jobs=8)]: Done  25 tasks      | elapsed:    0.1s\n",
      "[Parallel(n_jobs=8)]: Done 146 tasks      | elapsed:    0.6s\n",
      "[Parallel(n_jobs=8)]: Done 300 out of 300 | elapsed:    1.2s finished\n"
     ]
    }
   ],
   "source": [
    "clf=RandomForestClassifier(n_estimators=300,verbose=2,n_jobs=-1,random_state=42,class_weight='balanced')\n",
    "clf.fit(X_train_final,Y_train)\n",
    "y_pred1=clf.predict(X_val_final)"
   ]
  },
  {
   "cell_type": "code",
   "execution_count": 38,
   "id": "f001761b",
   "metadata": {},
   "outputs": [
    {
     "name": "stderr",
     "output_type": "stream",
     "text": [
      "[Parallel(n_jobs=8)]: Using backend ThreadingBackend with 8 concurrent workers.\n",
      "[Parallel(n_jobs=8)]: Done  25 tasks      | elapsed:    0.0s\n",
      "[Parallel(n_jobs=8)]: Done 146 tasks      | elapsed:    0.4s\n",
      "[Parallel(n_jobs=8)]: Done 300 out of 300 | elapsed:    1.1s finished\n"
     ]
    }
   ],
   "source": [
    "y_pred1=clf.predict_proba(X_val_final)"
   ]
  },
  {
   "cell_type": "code",
   "execution_count": 39,
   "id": "5d088405",
   "metadata": {},
   "outputs": [
    {
     "data": {
      "text/plain": [
       "array([[0.77666667, 0.22333333],\n",
       "       [1.        , 0.        ],\n",
       "       [0.56      , 0.44      ],\n",
       "       ...,\n",
       "       [0.99666667, 0.00333333],\n",
       "       [0.64666667, 0.35333333],\n",
       "       [0.78      , 0.22      ]])"
      ]
     },
     "execution_count": 39,
     "metadata": {},
     "output_type": "execute_result"
    }
   ],
   "source": [
    "y_pred1"
   ]
  },
  {
   "cell_type": "markdown",
   "id": "76d5d678",
   "metadata": {},
   "source": [
    "The above values are the ones we predict for the validation data. These are the probabilites of belonging to class 0 and class 1 respectively"
   ]
  },
  {
   "cell_type": "code",
   "execution_count": 40,
   "id": "fce9b41d",
   "metadata": {},
   "outputs": [
    {
     "data": {
      "text/plain": [
       "array([0.22333333, 0.        , 0.44      , ..., 0.00333333, 0.35333333,\n",
       "       0.22      ])"
      ]
     },
     "execution_count": 40,
     "metadata": {},
     "output_type": "execute_result"
    }
   ],
   "source": [
    "y_pred1[:,1]"
   ]
  },
  {
   "cell_type": "markdown",
   "id": "c85d6ede",
   "metadata": {},
   "source": [
    "Now let us draw an ROC curve for the predictions "
   ]
  },
  {
   "cell_type": "code",
   "execution_count": 41,
   "id": "e6da04c4",
   "metadata": {},
   "outputs": [],
   "source": [
    "fpr,tpr,thresholds=roc_curve(Y_val,y_pred1[:,1])\n",
    "thresholds=thresholds[2:]"
   ]
  },
  {
   "cell_type": "code",
   "execution_count": 42,
   "id": "362bef14",
   "metadata": {},
   "outputs": [],
   "source": [
    "def plot_roc_curve(fpr, tpr):\n",
    "    plt.plot(fpr, tpr, color='orange', label='ROC')\n",
    "    plt.plot([0, 1], [0, 1], color='darkblue', linestyle='--')\n",
    "    plt.xlabel('False Positive Rate')\n",
    "    plt.ylabel('True Positive Rate')\n",
    "    plt.title('ROC Curve')\n",
    "    plt.legend()\n",
    "    plt.show()"
   ]
  },
  {
   "cell_type": "code",
   "execution_count": 43,
   "id": "d01e57ac",
   "metadata": {},
   "outputs": [
    {
     "data": {
      "image/png": "[encoded data removed]",
      "text/plain": [
       "<Figure size 432x288 with 1 Axes>"
      ]
     },
     "metadata": {
      "needs_background": "light"
     },
     "output_type": "display_data"
    },
    {
     "name": "stdout",
     "output_type": "stream",
     "text": [
      "AUC : 0.8156997111173756\n"
     ]
    }
   ],
   "source": [
    "plot_roc_curve(fpr, tpr)\n",
    "print('AUC :',roc_auc_score(Y_val,y_pred1[:,1]))"
   ]
  },
  {
   "cell_type": "markdown",
   "id": "2854e5f7",
   "metadata": {},
   "source": [
    "We get an AUROC score of 0.81 which indicates a pretty good fit"
   ]
  },
  {
   "cell_type": "markdown",
   "id": "797b4cc2",
   "metadata": {},
   "source": [
    "Next, let us try to find the best parameters for the Random Forest Classifier model"
   ]
  },
  {
   "cell_type": "code",
   "execution_count": 44,
   "id": "c9e110cc",
   "metadata": {},
   "outputs": [
    {
     "name": "stdout",
     "output_type": "stream",
     "text": [
      "Fitting 3 folds for each of 10 candidates, totalling 30 fits\n",
      "Best parameters : {'n_estimators': 600, 'max_depth': 10, 'class_weight': {0: 0.5236842105263158, 1: 0.47631578947368425}}\n"
     ]
    }
   ],
   "source": [
    "from sklearn.model_selection import RandomizedSearchCV\n",
    "n_estimators=np.linspace(100,1000,10,dtype=int)\n",
    "weights = np.linspace(0.05, 0.95, 20)\n",
    "max_depth=np.linspace(1,10,10,dtype=int)\n",
    "distributions={'class_weight': [{0: x, 1: 1.0-x} for x in weights],'n_estimators':n_estimators,'max_depth':max_depth}\n",
    "clf2 = RandomizedSearchCV(estimator=RandomForestClassifier(max_features='log2'),param_distributions=distributions,scoring='accuracy',cv=3,verbose=3,n_jobs=-1,random_state=42)\n",
    "\n",
    "result = clf2.fit(X_train_final, Y_train)\n",
    "print(\"Best parameters : %s\" % result.best_params_)"
   ]
  },
  {
   "cell_type": "code",
   "execution_count": 45,
   "id": "ea7e36a2",
   "metadata": {},
   "outputs": [],
   "source": [
    "y_pred_final=clf2.predict_proba(X_val_final)"
   ]
  },
  {
   "cell_type": "code",
   "execution_count": 46,
   "id": "4b9dfff9",
   "metadata": {},
   "outputs": [],
   "source": [
    "fpr,tpr,thresholds=roc_curve(Y_val,y_pred_final[:,1])\n",
    "thresholds=thresholds[2:]"
   ]
  },
  {
   "cell_type": "code",
   "execution_count": 47,
   "id": "dfe6484f",
   "metadata": {},
   "outputs": [
    {
     "data": {
      "image/png": "[encoded data removed]",
      "text/plain": [
       "<Figure size 432x288 with 1 Axes>"
      ]
     },
     "metadata": {
      "needs_background": "light"
     },
     "output_type": "display_data"
    },
    {
     "name": "stdout",
     "output_type": "stream",
     "text": [
      "AUC : 0.8249797948157371\n"
     ]
    }
   ],
   "source": [
    "plot_roc_curve(fpr, tpr)\n",
    "print('AUC :',roc_auc_score(Y_val,y_pred_final[:,1]))"
   ]
  },
  {
   "cell_type": "markdown",
   "id": "97058771",
   "metadata": {},
   "source": [
    "## Model 2: GradientBoost Classifier"
   ]
  },
  {
   "cell_type": "code",
   "execution_count": 48,
   "id": "85fad5a9",
   "metadata": {},
   "outputs": [
    {
     "name": "stdout",
     "output_type": "stream",
     "text": [
      "Fitting 3 folds for each of 10 candidates, totalling 30 fits\n",
      "Best parameters : {'n_estimators': 300, 'max_depth': 3}\n"
     ]
    }
   ],
   "source": [
    "from sklearn.model_selection import RandomizedSearchCV\n",
    "\n",
    "n_estimators=np.linspace(100,1000,10,dtype=int)\n",
    "weights = np.linspace(0.05, 0.95, 20)\n",
    "max_depth=np.linspace(1,10,10,dtype=int)\n",
    "distributions={'n_estimators':n_estimators,'max_depth':max_depth}\n",
    "gbsc = RandomizedSearchCV(estimator=GradientBoostingClassifier(max_features='log2'),param_distributions=distributions,scoring='accuracy',cv=3,verbose=3,n_jobs=-1,random_state=42)\n",
    "\n",
    "result = gbsc.fit(X_train_final, Y_train)\n",
    "print(\"Best parameters : %s\" % result.best_params_)"
   ]
  },
  {
   "cell_type": "code",
   "execution_count": 49,
   "id": "3ebd1e52",
   "metadata": {},
   "outputs": [
    {
     "name": "stdout",
     "output_type": "stream",
     "text": [
      "      Iter       Train Loss   Remaining Time \n",
      "         1           1.0121           30.72s\n",
      "         2           0.9859           32.99s\n",
      "         3           0.9635           32.18s\n",
      "         4           0.9456           31.81s\n",
      "         5           0.9308           29.42s\n",
      "         6           0.9178           27.56s\n",
      "         7           0.9094           26.97s\n",
      "         8           0.8992           26.17s\n",
      "         9           0.8914           25.28s\n",
      "        10           0.8862           25.51s\n",
      "        11           0.8811           25.57s\n",
      "        12           0.8756           25.01s\n",
      "        13           0.8709           24.48s\n",
      "        14           0.8660           24.33s\n",
      "        15           0.8614           24.06s\n",
      "        16           0.8576           23.77s\n",
      "        17           0.8548           23.36s\n",
      "        18           0.8511           23.80s\n",
      "        19           0.8483           24.15s\n",
      "        20           0.8453           24.11s\n",
      "        21           0.8430           23.97s\n",
      "        22           0.8406           23.68s\n",
      "        23           0.8386           23.39s\n",
      "        24           0.8373           23.06s\n",
      "        25           0.8355           22.76s\n",
      "        26           0.8333           22.59s\n",
      "        27           0.8313           22.86s\n",
      "        28           0.8296           22.97s\n",
      "        29           0.8280           22.68s\n",
      "        30           0.8264           22.72s\n",
      "        31           0.8252           22.64s\n",
      "        32           0.8241           22.43s\n",
      "        33           0.8228           22.23s\n",
      "        34           0.8215           22.18s\n",
      "        35           0.8204           22.22s\n",
      "        36           0.8195           22.12s\n",
      "        37           0.8186           22.00s\n",
      "        38           0.8177           21.90s\n",
      "        39           0.8172           21.76s\n",
      "        40           0.8162           21.56s\n",
      "        41           0.8157           21.41s\n",
      "        42           0.8151           21.28s\n",
      "        43           0.8145           21.37s\n",
      "        44           0.8138           21.59s\n",
      "        45           0.8134           21.39s\n",
      "        46           0.8129           21.26s\n",
      "        47           0.8124           21.10s\n",
      "        48           0.8120           20.98s\n",
      "        49           0.8113           20.80s\n",
      "        50           0.8107           20.69s\n",
      "        51           0.8101           20.69s\n",
      "        52           0.8096           20.72s\n",
      "        53           0.8092           20.63s\n",
      "        54           0.8089           20.54s\n",
      "        55           0.8086           20.42s\n",
      "        56           0.8081           20.30s\n",
      "        57           0.8078           20.24s\n",
      "        58           0.8072           20.10s\n",
      "        59           0.8068           19.98s\n",
      "        60           0.8064           19.98s\n",
      "        61           0.8061           19.92s\n",
      "        62           0.8058           19.79s\n",
      "        63           0.8055           19.71s\n",
      "        64           0.8051           19.58s\n",
      "        65           0.8048           19.44s\n",
      "        66           0.8046           19.30s\n",
      "        67           0.8044           19.18s\n",
      "        68           0.8042           19.23s\n",
      "        69           0.8040           19.28s\n",
      "        70           0.8038           19.20s\n",
      "        71           0.8037           19.12s\n",
      "        72           0.8036           18.97s\n",
      "        73           0.8035           18.83s\n",
      "        74           0.8032           18.77s\n",
      "        75           0.8030           18.64s\n",
      "        76           0.8026           18.56s\n",
      "        77           0.8023           18.53s\n",
      "        78           0.8019           18.51s\n",
      "        79           0.8018           18.41s\n",
      "        80           0.8015           18.28s\n",
      "        81           0.8013           18.19s\n",
      "        82           0.8011           18.06s\n",
      "        83           0.8006           17.98s\n",
      "        84           0.8004           17.88s\n",
      "        85           0.8001           17.84s\n",
      "        86           0.7999           17.82s\n",
      "        87           0.7998           17.75s\n",
      "        88           0.7996           17.64s\n",
      "        89           0.7995           17.51s\n",
      "        90           0.7993           17.37s\n",
      "        91           0.7992           17.25s\n",
      "        92           0.7990           17.11s\n",
      "        93           0.7989           17.02s\n",
      "        94           0.7986           16.96s\n",
      "        95           0.7984           16.90s\n",
      "        96           0.7983           16.77s\n",
      "        97           0.7982           16.69s\n",
      "        98           0.7981           16.58s\n",
      "        99           0.7979           16.47s\n",
      "       100           0.7977           16.39s\n",
      "       101           0.7975           16.28s\n",
      "       102           0.7974           16.18s\n",
      "       103           0.7972           16.13s\n",
      "       104           0.7970           16.08s\n",
      "       105           0.7968           15.95s\n",
      "       106           0.7967           15.87s\n",
      "       107           0.7966           15.76s\n",
      "       108           0.7963           15.65s\n",
      "       109           0.7962           15.53s\n",
      "       110           0.7958           15.43s\n",
      "       111           0.7957           15.41s\n",
      "       112           0.7954           15.35s\n",
      "       113           0.7953           15.29s\n",
      "       114           0.7952           15.20s\n",
      "       115           0.7950           15.11s\n",
      "       116           0.7949           14.98s\n",
      "       117           0.7949           14.88s\n",
      "       118           0.7947           14.76s\n",
      "       119           0.7946           14.66s\n",
      "       120           0.7945           14.59s\n",
      "       121           0.7944           14.58s\n",
      "       122           0.7942           14.49s\n",
      "       123           0.7941           14.43s\n",
      "       124           0.7940           14.37s\n",
      "       125           0.7938           14.28s\n",
      "       126           0.7936           14.17s\n",
      "       127           0.7934           14.09s\n",
      "       128           0.7932           14.00s\n",
      "       129           0.7931           13.92s\n",
      "       130           0.7930           13.85s\n",
      "       131           0.7929           13.77s\n",
      "       132           0.7928           13.67s\n",
      "       133           0.7927           13.57s\n",
      "       134           0.7926           13.47s\n",
      "       135           0.7924           13.37s\n",
      "       136           0.7923           13.28s\n",
      "       137           0.7921           13.27s\n",
      "       138           0.7921           13.23s\n",
      "       139           0.7920           13.14s\n",
      "       140           0.7918           13.06s\n",
      "       141           0.7917           12.98s\n",
      "       142           0.7916           12.90s\n",
      "       143           0.7915           12.81s\n",
      "       144           0.7914           12.72s\n",
      "       145           0.7914           12.65s\n",
      "       146           0.7913           12.58s\n",
      "       147           0.7912           12.49s\n",
      "       148           0.7910           12.41s\n",
      "       149           0.7909           12.32s\n",
      "       150           0.7908           12.23s\n",
      "       151           0.7907           12.15s\n",
      "       152           0.7906           12.05s\n",
      "       153           0.7905           11.97s\n",
      "       154           0.7904           11.91s\n",
      "       155           0.7902           11.84s\n",
      "       156           0.7902           11.84s\n",
      "       157           0.7900           11.74s\n",
      "       158           0.7899           11.64s\n",
      "       159           0.7899           11.55s\n",
      "       160           0.7898           11.46s\n",
      "       161           0.7896           11.40s\n",
      "       162           0.7895           11.34s\n",
      "       163           0.7895           11.26s\n",
      "       164           0.7893           11.18s\n",
      "       165           0.7892           11.08s\n",
      "       166           0.7891           10.99s\n",
      "       167           0.7890           10.89s\n",
      "       168           0.7888           10.80s\n",
      "       169           0.7888           10.74s\n",
      "       170           0.7886           10.67s\n",
      "       171           0.7884           10.58s\n",
      "       172           0.7884           10.50s\n",
      "       173           0.7883           10.41s\n",
      "       174           0.7882           10.32s\n",
      "       175           0.7881           10.23s\n",
      "       176           0.7879           10.16s\n",
      "       177           0.7878           10.09s\n",
      "       178           0.7877           10.03s\n",
      "       179           0.7876            9.94s\n",
      "       180           0.7874            9.85s\n",
      "       181           0.7874            9.75s\n",
      "       182           0.7873            9.65s\n",
      "       183           0.7872            9.56s\n",
      "       184           0.7871            9.46s\n",
      "       185           0.7871            9.36s\n"
     ]
    },
    {
     "name": "stdout",
     "output_type": "stream",
     "text": [
      "       186           0.7869            9.28s\n",
      "       187           0.7868            9.21s\n",
      "       188           0.7866            9.14s\n",
      "       189           0.7865            9.06s\n",
      "       190           0.7864            8.99s\n",
      "       191           0.7864            8.91s\n",
      "       192           0.7863            8.82s\n",
      "       193           0.7863            8.73s\n",
      "       194           0.7861            8.65s\n",
      "       195           0.7860            8.58s\n",
      "       196           0.7859            8.50s\n",
      "       197           0.7859            8.41s\n",
      "       198           0.7858            8.33s\n",
      "       199           0.7857            8.24s\n",
      "       200           0.7855            8.15s\n",
      "       201           0.7855            8.07s\n",
      "       202           0.7854            7.98s\n",
      "       203           0.7853            7.91s\n",
      "       204           0.7853            7.87s\n",
      "       205           0.7851            7.78s\n",
      "       206           0.7850            7.70s\n",
      "       207           0.7849            7.61s\n",
      "       208           0.7848            7.53s\n",
      "       209           0.7848            7.44s\n",
      "       210           0.7847            7.35s\n",
      "       211           0.7846            7.28s\n",
      "       212           0.7845            7.20s\n",
      "       213           0.7844            7.12s\n",
      "       214           0.7843            7.03s\n",
      "       215           0.7843            6.95s\n",
      "       216           0.7842            6.87s\n",
      "       217           0.7841            6.80s\n",
      "       218           0.7841            6.71s\n",
      "       219           0.7839            6.62s\n",
      "       220           0.7838            6.55s\n",
      "       221           0.7837            6.47s\n",
      "       222           0.7837            6.39s\n",
      "       223           0.7836            6.31s\n",
      "       224           0.7835            6.22s\n",
      "       225           0.7834            6.13s\n",
      "       226           0.7834            6.04s\n",
      "       227           0.7832            5.96s\n",
      "       228           0.7831            5.87s\n",
      "       229           0.7831            5.81s\n",
      "       230           0.7830            5.74s\n",
      "       231           0.7829            5.65s\n",
      "       232           0.7828            5.57s\n",
      "       233           0.7828            5.49s\n",
      "       234           0.7827            5.40s\n",
      "       235           0.7826            5.32s\n",
      "       236           0.7825            5.23s\n",
      "       237           0.7824            5.15s\n",
      "       238           0.7824            5.08s\n",
      "       239           0.7823            4.99s\n",
      "       240           0.7822            4.91s\n",
      "       241           0.7821            4.83s\n",
      "       242           0.7821            4.76s\n",
      "       243           0.7820            4.68s\n",
      "       244           0.7820            4.60s\n",
      "       245           0.7819            4.52s\n",
      "       246           0.7818            4.45s\n",
      "       247           0.7818            4.37s\n",
      "       248           0.7816            4.28s\n",
      "       249           0.7815            4.20s\n",
      "       250           0.7815            4.12s\n",
      "       251           0.7814            4.03s\n",
      "       252           0.7814            3.95s\n",
      "       253           0.7813            3.86s\n",
      "       254           0.7813            3.78s\n",
      "       255           0.7812            3.70s\n",
      "       256           0.7811            3.62s\n",
      "       257           0.7811            3.54s\n",
      "       258           0.7810            3.46s\n",
      "       259           0.7809            3.37s\n",
      "       260           0.7808            3.29s\n",
      "       261           0.7807            3.21s\n",
      "       262           0.7807            3.12s\n",
      "       263           0.7806            3.04s\n",
      "       264           0.7806            2.96s\n",
      "       265           0.7805            2.88s\n",
      "       266           0.7804            2.80s\n",
      "       267           0.7804            2.72s\n",
      "       268           0.7802            2.63s\n",
      "       269           0.7801            2.55s\n",
      "       270           0.7800            2.47s\n",
      "       271           0.7799            2.38s\n",
      "       272           0.7799            2.30s\n",
      "       273           0.7798            2.22s\n",
      "       274           0.7798            2.14s\n",
      "       275           0.7797            2.05s\n",
      "       276           0.7797            1.97s\n",
      "       277           0.7796            1.89s\n",
      "       278           0.7796            1.80s\n",
      "       279           0.7796            1.72s\n",
      "       280           0.7795            1.64s\n",
      "       281           0.7794            1.55s\n",
      "       282           0.7793            1.47s\n",
      "       283           0.7791            1.39s\n",
      "       284           0.7790            1.31s\n",
      "       285           0.7790            1.23s\n",
      "       286           0.7789            1.15s\n",
      "       287           0.7788            1.06s\n",
      "       288           0.7788            0.98s\n",
      "       289           0.7787            0.90s\n",
      "       290           0.7787            0.82s\n",
      "       291           0.7786            0.74s\n",
      "       292           0.7785            0.66s\n",
      "       293           0.7785            0.57s\n",
      "       294           0.7784            0.49s\n",
      "       295           0.7784            0.41s\n",
      "       296           0.7783            0.33s\n",
      "       297           0.7782            0.25s\n",
      "       298           0.7781            0.16s\n",
      "       299           0.7780            0.08s\n",
      "       300           0.7779            0.00s\n"
     ]
    },
    {
     "data": {
      "text/plain": [
       "GradientBoostingClassifier(max_features='log2', n_estimators=300,\n",
       "                           random_state=42, verbose=2)"
      ]
     },
     "execution_count": 49,
     "metadata": {},
     "output_type": "execute_result"
    }
   ],
   "source": [
    "clf3=GradientBoostingClassifier(n_estimators= 300,max_depth= 3,\n",
    "                                 max_features='log2',verbose=2,random_state=42)\n",
    "clf3.fit(X_train_final, Y_train)"
   ]
  },
  {
   "cell_type": "code",
   "execution_count": 50,
   "id": "a19404f9",
   "metadata": {},
   "outputs": [],
   "source": [
    "y_pred_final2=clf3.predict_proba(X_val_final)"
   ]
  },
  {
   "cell_type": "code",
   "execution_count": 51,
   "id": "682e801a",
   "metadata": {},
   "outputs": [],
   "source": [
    "fpr,tpr,thresholds=roc_curve(Y_val,y_pred_final2[:,1])\n",
    "thresholds=thresholds[2:]"
   ]
  },
  {
   "cell_type": "code",
   "execution_count": 52,
   "id": "6269b2df",
   "metadata": {},
   "outputs": [
    {
     "data": {
      "image/png": "[encoded data removed]",
      "text/plain": [
       "<Figure size 432x288 with 1 Axes>"
      ]
     },
     "metadata": {
      "needs_background": "light"
     },
     "output_type": "display_data"
    },
    {
     "name": "stdout",
     "output_type": "stream",
     "text": [
      "AUC : 0.8294064824944412\n"
     ]
    }
   ],
   "source": [
    "plot_roc_curve(fpr, tpr)\n",
    "print('AUC :',roc_auc_score(Y_val,y_pred_final2[:,1]))"
   ]
  },
  {
   "cell_type": "markdown",
   "id": "60e8c126",
   "metadata": {},
   "source": [
    "AUROC curve for GradientBoost Classfiier"
   ]
  },
  {
   "cell_type": "markdown",
   "id": "c7753bd0",
   "metadata": {},
   "source": [
    "Next, we try to make predictions taking the average of GBClassifier and RFClassifer and see if we get better results"
   ]
  },
  {
   "cell_type": "code",
   "execution_count": 53,
   "id": "13e8f3f5",
   "metadata": {},
   "outputs": [],
   "source": [
    "classification_prob=pd.DataFrame(y_pred_final[:,1])"
   ]
  },
  {
   "cell_type": "code",
   "execution_count": 54,
   "id": "151bce5d",
   "metadata": {},
   "outputs": [],
   "source": [
    "classification_prob['GB Classifier']=y_pred_final2[:,1]"
   ]
  },
  {
   "cell_type": "code",
   "execution_count": 55,
   "id": "30795135",
   "metadata": {},
   "outputs": [],
   "source": [
    "classification_prob.columns=['RF Classifier','GB Classifier']"
   ]
  },
  {
   "cell_type": "code",
   "execution_count": 56,
   "id": "0527a6d6",
   "metadata": {},
   "outputs": [],
   "source": [
    "classification_prob['Overall_Avg']=(classification_prob['GB Classifier']+classification_prob['RF Classifier'])/2"
   ]
  },
  {
   "cell_type": "code",
   "execution_count": 57,
   "id": "923e931c",
   "metadata": {},
   "outputs": [
    {
     "data": {
      "image/png": "[encoded data removed]",
      "text/plain": [
       "<Figure size 432x288 with 1 Axes>"
      ]
     },
     "metadata": {
      "needs_background": "light"
     },
     "output_type": "display_data"
    },
    {
     "name": "stdout",
     "output_type": "stream",
     "text": [
      "AUC : 0.8286348519486949\n"
     ]
    }
   ],
   "source": [
    "plot_roc_curve(fpr, tpr)\n",
    "print('AUC :',roc_auc_score(Y_val,classification_prob['Overall_Avg']))"
   ]
  },
  {
   "cell_type": "markdown",
   "id": "2d79825f",
   "metadata": {},
   "source": [
    "AUROC curve for combined prediction(average) of RF and GB"
   ]
  },
  {
   "cell_type": "markdown",
   "id": "fffb145d",
   "metadata": {},
   "source": [
    "## Model 3: Adaboost Classifier"
   ]
  },
  {
   "cell_type": "code",
   "execution_count": 58,
   "id": "b38b31b8",
   "metadata": {},
   "outputs": [],
   "source": [
    "from sklearn.ensemble import AdaBoostClassifier"
   ]
  },
  {
   "cell_type": "code",
   "execution_count": 59,
   "id": "c75e5cae",
   "metadata": {},
   "outputs": [],
   "source": [
    "clf4=AdaBoostClassifier(n_estimators=100,learning_rate=0.8,random_state=42)"
   ]
  },
  {
   "cell_type": "code",
   "execution_count": 60,
   "id": "e514a7a3",
   "metadata": {},
   "outputs": [
    {
     "data": {
      "text/plain": [
       "AdaBoostClassifier(learning_rate=0.8, n_estimators=100, random_state=42)"
      ]
     },
     "execution_count": 60,
     "metadata": {},
     "output_type": "execute_result"
    }
   ],
   "source": [
    "clf4.fit(X_train_final, Y_train)"
   ]
  },
  {
   "cell_type": "code",
   "execution_count": 62,
   "id": "f4da6c8c",
   "metadata": {},
   "outputs": [],
   "source": [
    "y_pred_final3=clf4.predict_proba(X_val_final)"
   ]
  },
  {
   "cell_type": "code",
   "execution_count": 63,
   "id": "cb6a9d41",
   "metadata": {},
   "outputs": [],
   "source": [
    "classification_prob['ADABoost Classifier']=y_pred_final3[:,1]"
   ]
  },
  {
   "cell_type": "code",
   "execution_count": 64,
   "id": "322b2a23",
   "metadata": {},
   "outputs": [],
   "source": [
    "fpr,tpr,thresholds=roc_curve(Y_val,y_pred_final3[:,1])\n",
    "thresholds=thresholds[2:]"
   ]
  },
  {
   "cell_type": "code",
   "execution_count": 65,
   "id": "8092a225",
   "metadata": {},
   "outputs": [
    {
     "data": {
      "image/png": "[encoded data removed]",
      "text/plain": [
       "<Figure size 432x288 with 1 Axes>"
      ]
     },
     "metadata": {
      "needs_background": "light"
     },
     "output_type": "display_data"
    },
    {
     "name": "stdout",
     "output_type": "stream",
     "text": [
      "AUC : 0.8176334635732184\n"
     ]
    }
   ],
   "source": [
    "plot_roc_curve(fpr, tpr)\n",
    "print('AUC :',roc_auc_score(Y_val,y_pred_final3[:,1]))"
   ]
  },
  {
   "cell_type": "markdown",
   "id": "bccfeb31",
   "metadata": {},
   "source": [
    "AUROC curver for Adaboost Classifier"
   ]
  },
  {
   "cell_type": "markdown",
   "id": "5992b1aa",
   "metadata": {},
   "source": [
    "Next we try to make predictions taking the average of all the three models: RF,GB and Adaboost and plot the AUC curve"
   ]
  },
  {
   "cell_type": "code",
   "execution_count": 66,
   "id": "5320b2e0",
   "metadata": {},
   "outputs": [],
   "source": [
    "classification_prob['Overall_Avg']=(classification_prob['GB Classifier']+classification_prob['RF Classifier']+classification_prob['ADABoost Classifier'])/3"
   ]
  },
  {
   "cell_type": "code",
   "execution_count": 67,
   "id": "b467fe6d",
   "metadata": {},
   "outputs": [
    {
     "data": {
      "text/html": [
       "<div>\n",
       "<style scoped>\n",
       "    .dataframe tbody tr th:only-of-type {\n",
       "        vertical-align: middle;\n",
       "    }\n",
       "\n",
       "    .dataframe tbody tr th {\n",
       "        vertical-align: top;\n",
       "    }\n",
       "\n",
       "    .dataframe thead th {\n",
       "        text-align: right;\n",
       "    }\n",
       "</style>\n",
       "<table border=\"1\" class=\"dataframe\">\n",
       "  <thead>\n",
       "    <tr style=\"text-align: right;\">\n",
       "      <th></th>\n",
       "      <th>RF Classifier</th>\n",
       "      <th>GB Classifier</th>\n",
       "      <th>Overall_Avg</th>\n",
       "      <th>ADABoost Classifier</th>\n",
       "    </tr>\n",
       "  </thead>\n",
       "  <tbody>\n",
       "    <tr>\n",
       "      <th>0</th>\n",
       "      <td>0.229700</td>\n",
       "      <td>0.217099</td>\n",
       "      <td>0.313944</td>\n",
       "      <td>0.495032</td>\n",
       "    </tr>\n",
       "    <tr>\n",
       "      <th>1</th>\n",
       "      <td>0.039931</td>\n",
       "      <td>0.044394</td>\n",
       "      <td>0.191945</td>\n",
       "      <td>0.491510</td>\n",
       "    </tr>\n",
       "    <tr>\n",
       "      <th>2</th>\n",
       "      <td>0.344385</td>\n",
       "      <td>0.365506</td>\n",
       "      <td>0.402426</td>\n",
       "      <td>0.497388</td>\n",
       "    </tr>\n",
       "    <tr>\n",
       "      <th>3</th>\n",
       "      <td>0.087522</td>\n",
       "      <td>0.048511</td>\n",
       "      <td>0.209599</td>\n",
       "      <td>0.492764</td>\n",
       "    </tr>\n",
       "    <tr>\n",
       "      <th>4</th>\n",
       "      <td>0.361081</td>\n",
       "      <td>0.456615</td>\n",
       "      <td>0.438702</td>\n",
       "      <td>0.498409</td>\n",
       "    </tr>\n",
       "    <tr>\n",
       "      <th>...</th>\n",
       "      <td>...</td>\n",
       "      <td>...</td>\n",
       "      <td>...</td>\n",
       "      <td>...</td>\n",
       "    </tr>\n",
       "    <tr>\n",
       "      <th>39043</th>\n",
       "      <td>0.056959</td>\n",
       "      <td>0.063400</td>\n",
       "      <td>0.203591</td>\n",
       "      <td>0.490415</td>\n",
       "    </tr>\n",
       "    <tr>\n",
       "      <th>39044</th>\n",
       "      <td>0.060361</td>\n",
       "      <td>0.065453</td>\n",
       "      <td>0.205589</td>\n",
       "      <td>0.490952</td>\n",
       "    </tr>\n",
       "    <tr>\n",
       "      <th>39045</th>\n",
       "      <td>0.019850</td>\n",
       "      <td>0.021565</td>\n",
       "      <td>0.177010</td>\n",
       "      <td>0.489614</td>\n",
       "    </tr>\n",
       "    <tr>\n",
       "      <th>39046</th>\n",
       "      <td>0.348066</td>\n",
       "      <td>0.312281</td>\n",
       "      <td>0.385971</td>\n",
       "      <td>0.497566</td>\n",
       "    </tr>\n",
       "    <tr>\n",
       "      <th>39047</th>\n",
       "      <td>0.181451</td>\n",
       "      <td>0.198330</td>\n",
       "      <td>0.292176</td>\n",
       "      <td>0.496745</td>\n",
       "    </tr>\n",
       "  </tbody>\n",
       "</table>\n",
       "<p>39048 rows × 4 columns</p>\n",
       "</div>"
      ],
      "text/plain": [
       "       RF Classifier  GB Classifier  Overall_Avg  ADABoost Classifier\n",
       "0           0.229700       0.217099     0.313944             0.495032\n",
       "1           0.039931       0.044394     0.191945             0.491510\n",
       "2           0.344385       0.365506     0.402426             0.497388\n",
       "3           0.087522       0.048511     0.209599             0.492764\n",
       "4           0.361081       0.456615     0.438702             0.498409\n",
       "...              ...            ...          ...                  ...\n",
       "39043       0.056959       0.063400     0.203591             0.490415\n",
       "39044       0.060361       0.065453     0.205589             0.490952\n",
       "39045       0.019850       0.021565     0.177010             0.489614\n",
       "39046       0.348066       0.312281     0.385971             0.497566\n",
       "39047       0.181451       0.198330     0.292176             0.496745\n",
       "\n",
       "[39048 rows x 4 columns]"
      ]
     },
     "execution_count": 67,
     "metadata": {},
     "output_type": "execute_result"
    }
   ],
   "source": [
    "classification_prob"
   ]
  },
  {
   "cell_type": "code",
   "execution_count": 68,
   "id": "db21620f",
   "metadata": {},
   "outputs": [
    {
     "data": {
      "image/png": "[encoded data removed]",
      "text/plain": [
       "<Figure size 432x288 with 1 Axes>"
      ]
     },
     "metadata": {
      "needs_background": "light"
     },
     "output_type": "display_data"
    },
    {
     "name": "stdout",
     "output_type": "stream",
     "text": [
      "AUC : 0.8286363416427112\n"
     ]
    }
   ],
   "source": [
    "plot_roc_curve(fpr, tpr)\n",
    "print('AUC :',roc_auc_score(Y_val,classification_prob['Overall_Avg']))"
   ]
  },
  {
   "cell_type": "markdown",
   "id": "65c43247",
   "metadata": {},
   "source": [
    "AUROC curve for average of all the predictions"
   ]
  },
  {
   "cell_type": "markdown",
   "id": "eb19a3cb",
   "metadata": {},
   "source": [
    "## Model 4: XGBoost"
   ]
  },
  {
   "cell_type": "code",
   "execution_count": 77,
   "id": "6bcd0cca",
   "metadata": {},
   "outputs": [],
   "source": [
    "a=np.linspace(0.1,0.99,10)\n",
    "b=np.linspace(0.1,0.99,10)\n",
    "c=np.linspace(0.1,0.99,10)\n"
   ]
  },
  {
   "cell_type": "code",
   "execution_count": 78,
   "id": "9d066a8b",
   "metadata": {},
   "outputs": [],
   "source": [
    "values={}\n",
    "for i in a:\n",
    "    for j in b:\n",
    "        for k in c:\n",
    "            s=(i+j+k)\n",
    "            classification_prob['Overall_Avg']=((i/s)*classification_prob['GB Classifier']+(j/s)*classification_prob['RF Classifier']\n",
    "                                        +(k/s)*classification_prob['ADABoost Classifier'])\n",
    "            \n",
    "            values[(i,j,k)]=roc_auc_score(Y_val,classification_prob['Overall_Avg'])"
   ]
  },
  {
   "cell_type": "code",
   "execution_count": 79,
   "id": "9ad34172",
   "metadata": {},
   "outputs": [
    {
     "name": "stdout",
     "output_type": "stream",
     "text": [
      "(0.99, 0.1, 0.1)\n"
     ]
    }
   ],
   "source": [
    "Keymax = max(values, key=values.get) \n",
    "print(Keymax) "
   ]
  },
  {
   "cell_type": "code",
   "execution_count": 80,
   "id": "94e62aa5",
   "metadata": {},
   "outputs": [
    {
     "data": {
      "text/plain": [
       "0.8294558436024037"
      ]
     },
     "execution_count": 80,
     "metadata": {},
     "output_type": "execute_result"
    }
   ],
   "source": [
    "values[Keymax]"
   ]
  },
  {
   "cell_type": "code",
   "execution_count": 81,
   "id": "8584640f",
   "metadata": {},
   "outputs": [],
   "source": [
    "total=sum(Keymax)"
   ]
  },
  {
   "cell_type": "code",
   "execution_count": 84,
   "id": "f1b21295",
   "metadata": {},
   "outputs": [],
   "source": [
    "y_test_pred_ADB=clf4.predict_proba(X_test_final)[:,1]"
   ]
  },
  {
   "cell_type": "code",
   "execution_count": 86,
   "id": "9638e283",
   "metadata": {},
   "outputs": [],
   "source": [
    "y_test_pred_GB=clf3.predict_proba(X_test_final)[:,1]"
   ]
  },
  {
   "cell_type": "code",
   "execution_count": 87,
   "id": "056ac307",
   "metadata": {},
   "outputs": [],
   "source": [
    "y_test_pred_RF=clf2.predict_proba(X_test_final)[:,1]"
   ]
  },
  {
   "cell_type": "code",
   "execution_count": 88,
   "id": "e1044c73",
   "metadata": {},
   "outputs": [],
   "source": [
    "final_clf_op=pd.DataFrame(y_test_pred_GB)"
   ]
  },
  {
   "cell_type": "code",
   "execution_count": 89,
   "id": "712936e7",
   "metadata": {},
   "outputs": [],
   "source": [
    "final_clf_op['RF']=y_test_pred_RF"
   ]
  },
  {
   "cell_type": "code",
   "execution_count": 90,
   "id": "9ce99cac",
   "metadata": {},
   "outputs": [],
   "source": [
    "final_clf_op['ADB']=y_test_pred_ADB"
   ]
  },
  {
   "cell_type": "code",
   "execution_count": 91,
   "id": "b4a770e2",
   "metadata": {},
   "outputs": [],
   "source": [
    "final_clf_op.columns=['GB','RF','ADB']"
   ]
  },
  {
   "cell_type": "code",
   "execution_count": 92,
   "id": "8ffed84d",
   "metadata": {},
   "outputs": [],
   "source": [
    "final_clf_op['Overall_Avg']=((Keymax[0]/total)*final_clf_op['GB']+\n",
    "                             (Keymax[1]/total)*final_clf_op['RF']\n",
    "                             +(Keymax[2]/total)*final_clf_op['ADB'])"
   ]
  },
  {
   "cell_type": "code",
   "execution_count": 93,
   "id": "cc2966e7",
   "metadata": {},
   "outputs": [
    {
     "data": {
      "text/html": [
       "<div>\n",
       "<style scoped>\n",
       "    .dataframe tbody tr th:only-of-type {\n",
       "        vertical-align: middle;\n",
       "    }\n",
       "\n",
       "    .dataframe tbody tr th {\n",
       "        vertical-align: top;\n",
       "    }\n",
       "\n",
       "    .dataframe thead th {\n",
       "        text-align: right;\n",
       "    }\n",
       "</style>\n",
       "<table border=\"1\" class=\"dataframe\">\n",
       "  <thead>\n",
       "    <tr style=\"text-align: right;\">\n",
       "      <th></th>\n",
       "      <th>GB</th>\n",
       "      <th>RF</th>\n",
       "      <th>ADB</th>\n",
       "      <th>Overall_Avg</th>\n",
       "    </tr>\n",
       "  </thead>\n",
       "  <tbody>\n",
       "    <tr>\n",
       "      <th>0</th>\n",
       "      <td>0.100450</td>\n",
       "      <td>0.091166</td>\n",
       "      <td>0.491843</td>\n",
       "      <td>0.132560</td>\n",
       "    </tr>\n",
       "    <tr>\n",
       "      <th>1</th>\n",
       "      <td>0.125571</td>\n",
       "      <td>0.100666</td>\n",
       "      <td>0.494354</td>\n",
       "      <td>0.154468</td>\n",
       "    </tr>\n",
       "    <tr>\n",
       "      <th>2</th>\n",
       "      <td>0.186175</td>\n",
       "      <td>0.163663</td>\n",
       "      <td>0.496840</td>\n",
       "      <td>0.210390</td>\n",
       "    </tr>\n",
       "    <tr>\n",
       "      <th>3</th>\n",
       "      <td>0.083142</td>\n",
       "      <td>0.098399</td>\n",
       "      <td>0.491589</td>\n",
       "      <td>0.118747</td>\n",
       "    </tr>\n",
       "    <tr>\n",
       "      <th>4</th>\n",
       "      <td>0.220461</td>\n",
       "      <td>0.153538</td>\n",
       "      <td>0.495231</td>\n",
       "      <td>0.237927</td>\n",
       "    </tr>\n",
       "    <tr>\n",
       "      <th>...</th>\n",
       "      <td>...</td>\n",
       "      <td>...</td>\n",
       "      <td>...</td>\n",
       "      <td>...</td>\n",
       "    </tr>\n",
       "    <tr>\n",
       "      <th>10229</th>\n",
       "      <td>0.052597</td>\n",
       "      <td>0.091466</td>\n",
       "      <td>0.488876</td>\n",
       "      <td>0.092526</td>\n",
       "    </tr>\n",
       "    <tr>\n",
       "      <th>10230</th>\n",
       "      <td>0.048381</td>\n",
       "      <td>0.071617</td>\n",
       "      <td>0.490322</td>\n",
       "      <td>0.087471</td>\n",
       "    </tr>\n",
       "    <tr>\n",
       "      <th>10231</th>\n",
       "      <td>0.066887</td>\n",
       "      <td>0.074730</td>\n",
       "      <td>0.492437</td>\n",
       "      <td>0.103306</td>\n",
       "    </tr>\n",
       "    <tr>\n",
       "      <th>10232</th>\n",
       "      <td>0.019904</td>\n",
       "      <td>0.029398</td>\n",
       "      <td>0.486237</td>\n",
       "      <td>0.059889</td>\n",
       "    </tr>\n",
       "    <tr>\n",
       "      <th>10233</th>\n",
       "      <td>0.023572</td>\n",
       "      <td>0.024969</td>\n",
       "      <td>0.489562</td>\n",
       "      <td>0.062848</td>\n",
       "    </tr>\n",
       "  </tbody>\n",
       "</table>\n",
       "<p>10234 rows × 4 columns</p>\n",
       "</div>"
      ],
      "text/plain": [
       "             GB        RF       ADB  Overall_Avg\n",
       "0      0.100450  0.091166  0.491843     0.132560\n",
       "1      0.125571  0.100666  0.494354     0.154468\n",
       "2      0.186175  0.163663  0.496840     0.210390\n",
       "3      0.083142  0.098399  0.491589     0.118747\n",
       "4      0.220461  0.153538  0.495231     0.237927\n",
       "...         ...       ...       ...          ...\n",
       "10229  0.052597  0.091466  0.488876     0.092526\n",
       "10230  0.048381  0.071617  0.490322     0.087471\n",
       "10231  0.066887  0.074730  0.492437     0.103306\n",
       "10232  0.019904  0.029398  0.486237     0.059889\n",
       "10233  0.023572  0.024969  0.489562     0.062848\n",
       "\n",
       "[10234 rows x 4 columns]"
      ]
     },
     "execution_count": 93,
     "metadata": {},
     "output_type": "execute_result"
    }
   ],
   "source": [
    "final_clf_op"
   ]
  },
  {
   "cell_type": "code",
   "execution_count": null,
   "id": "7829ea4e",
   "metadata": {},
   "outputs": [],
   "source": []
  },
  {
   "cell_type": "code",
   "execution_count": 107,
   "id": "7b4f54cf",
   "metadata": {},
   "outputs": [],
   "source": [
    "encounter_IDs = pd.read_csv(\"Data/UnlabeledWiDS2021.csv\")[[\"encounter_id\"]].values"
   ]
  },
  {
   "cell_type": "code",
   "execution_count": 108,
   "id": "7f8d09dc",
   "metadata": {},
   "outputs": [],
   "source": [
    "df_sub = {'encounter_id': encounter_IDs[:,0], 'diabetes_mellitus':final_clf_op['Overall_Avg']} "
   ]
  },
  {
   "cell_type": "code",
   "execution_count": 109,
   "id": "c9f22ed9",
   "metadata": {},
   "outputs": [],
   "source": [
    "XGBoost_of_auroc=[]"
   ]
  },
  {
   "cell_type": "code",
   "execution_count": 110,
   "id": "330ce982",
   "metadata": {},
   "outputs": [],
   "source": [
    "df_predictions = pd.DataFrame.from_dict(df_sub).set_index(['encounter_id'])\n",
    "df_predictions.to_csv('submission_final.csv')"
   ]
  },
  {
   "cell_type": "markdown",
   "id": "bd886bbe",
   "metadata": {},
   "source": [
    "K fold cross validation with XGBoost"
   ]
  },
  {
   "cell_type": "code",
   "execution_count": 111,
   "id": "b1604191",
   "metadata": {},
   "outputs": [],
   "source": [
    "from sklearn.model_selection import KFold, StratifiedKFold\n",
    "from xgboost import XGBClassifier\n",
    "from sklearn.metrics import roc_auc_score\n",
    "\n",
    "K_FOLDS = 5\n",
    "\n",
    "def train_model_kfold_cv(X, y, X_test):\n",
    "    \n",
    "    skf = StratifiedKFold(n_splits = K_FOLDS, random_state = 1, shuffle = True)\n",
    "    index = 0\n",
    "    model_predict = np.zeros((len(X_test), 2))\n",
    "    \n",
    "    for train, val in skf.split(X, y):\n",
    "        \n",
    "        X_train_cv, X_val_cv = X.values[train], X.values[val]\n",
    "        y_train_cv, y_val_cv = y.values[train], y.values[val]\n",
    "        \n",
    "        xgboost = XGBClassifier(learning_rate=0.1, n_estimators=500, tree_method='gpu_hist', eval_metric='auc')\n",
    "        \n",
    "        print('--------------------------------------------------')\n",
    "        print(f'Training on fold {index+1}')\n",
    "        print('--------------------------------------------------')\n",
    "        \n",
    "        xgboost.fit(X_train_cv, y_train_cv)\n",
    "        y_preds = xgboost.predict(X_val_cv)\n",
    "        score = roc_auc_score(y_preds, y_val_cv)\n",
    "        XGBoost_of_auroc.append(score)\n",
    "        print(f'AUROC score on fold {index+1}: {score}')\n",
    "        \n",
    "        prediction = xgboost.predict_proba(X_test.values[:])\n",
    "        model_predict+= prediction/K_FOLDS\n",
    "        index += 1\n",
    "        \n",
    "    return model_predict    "
   ]
  },
  {
   "cell_type": "code",
   "execution_count": 112,
   "id": "48f7ce48",
   "metadata": {},
   "outputs": [
    {
     "data": {
      "text/html": [
       "<div>\n",
       "<style scoped>\n",
       "    .dataframe tbody tr th:only-of-type {\n",
       "        vertical-align: middle;\n",
       "    }\n",
       "\n",
       "    .dataframe tbody tr th {\n",
       "        vertical-align: top;\n",
       "    }\n",
       "\n",
       "    .dataframe thead th {\n",
       "        text-align: right;\n",
       "    }\n",
       "</style>\n",
       "<table border=\"1\" class=\"dataframe\">\n",
       "  <thead>\n",
       "    <tr style=\"text-align: right;\">\n",
       "      <th></th>\n",
       "      <th>d1_glucose_max</th>\n",
       "      <th>glucose_apache</th>\n",
       "      <th>bmi</th>\n",
       "      <th>h1_glucose_max</th>\n",
       "      <th>d1_glucose_min</th>\n",
       "      <th>h1_glucose_min</th>\n",
       "      <th>weight</th>\n",
       "      <th>age</th>\n",
       "      <th>d1_creatinine_min</th>\n",
       "      <th>d1_creatinine_max</th>\n",
       "    </tr>\n",
       "  </thead>\n",
       "  <tbody>\n",
       "    <tr>\n",
       "      <th>50149</th>\n",
       "      <td>114.000000</td>\n",
       "      <td>106.000000</td>\n",
       "      <td>44.827412</td>\n",
       "      <td>167.702625</td>\n",
       "      <td>114.00000</td>\n",
       "      <td>158.908794</td>\n",
       "      <td>111.200000</td>\n",
       "      <td>83.0</td>\n",
       "      <td>4.100000</td>\n",
       "      <td>4.100000</td>\n",
       "    </tr>\n",
       "    <tr>\n",
       "      <th>49431</th>\n",
       "      <td>174.149802</td>\n",
       "      <td>160.141416</td>\n",
       "      <td>18.294646</td>\n",
       "      <td>167.702625</td>\n",
       "      <td>114.44031</td>\n",
       "      <td>158.908794</td>\n",
       "      <td>61.200000</td>\n",
       "      <td>57.0</td>\n",
       "      <td>1.363795</td>\n",
       "      <td>1.493531</td>\n",
       "    </tr>\n",
       "    <tr>\n",
       "      <th>111661</th>\n",
       "      <td>186.000000</td>\n",
       "      <td>161.000000</td>\n",
       "      <td>40.147694</td>\n",
       "      <td>186.000000</td>\n",
       "      <td>99.00000</td>\n",
       "      <td>145.000000</td>\n",
       "      <td>116.300000</td>\n",
       "      <td>62.0</td>\n",
       "      <td>0.780000</td>\n",
       "      <td>0.780000</td>\n",
       "    </tr>\n",
       "    <tr>\n",
       "      <th>7350</th>\n",
       "      <td>141.000000</td>\n",
       "      <td>141.000000</td>\n",
       "      <td>43.841420</td>\n",
       "      <td>167.702625</td>\n",
       "      <td>122.00000</td>\n",
       "      <td>158.908794</td>\n",
       "      <td>127.000000</td>\n",
       "      <td>35.0</td>\n",
       "      <td>0.950000</td>\n",
       "      <td>1.290000</td>\n",
       "    </tr>\n",
       "    <tr>\n",
       "      <th>4666</th>\n",
       "      <td>222.000000</td>\n",
       "      <td>222.000000</td>\n",
       "      <td>29.110260</td>\n",
       "      <td>142.000000</td>\n",
       "      <td>142.00000</td>\n",
       "      <td>142.000000</td>\n",
       "      <td>83.791104</td>\n",
       "      <td>63.0</td>\n",
       "      <td>0.900000</td>\n",
       "      <td>0.900000</td>\n",
       "    </tr>\n",
       "  </tbody>\n",
       "</table>\n",
       "</div>"
      ],
      "text/plain": [
       "        d1_glucose_max  glucose_apache        bmi  h1_glucose_max  \\\n",
       "50149       114.000000      106.000000  44.827412      167.702625   \n",
       "49431       174.149802      160.141416  18.294646      167.702625   \n",
       "111661      186.000000      161.000000  40.147694      186.000000   \n",
       "7350        141.000000      141.000000  43.841420      167.702625   \n",
       "4666        222.000000      222.000000  29.110260      142.000000   \n",
       "\n",
       "        d1_glucose_min  h1_glucose_min      weight   age  d1_creatinine_min  \\\n",
       "50149        114.00000      158.908794  111.200000  83.0           4.100000   \n",
       "49431        114.44031      158.908794   61.200000  57.0           1.363795   \n",
       "111661        99.00000      145.000000  116.300000  62.0           0.780000   \n",
       "7350         122.00000      158.908794  127.000000  35.0           0.950000   \n",
       "4666         142.00000      142.000000   83.791104  63.0           0.900000   \n",
       "\n",
       "        d1_creatinine_max  \n",
       "50149            4.100000  \n",
       "49431            1.493531  \n",
       "111661           0.780000  \n",
       "7350             1.290000  \n",
       "4666             0.900000  "
      ]
     },
     "execution_count": 112,
     "metadata": {},
     "output_type": "execute_result"
    }
   ],
   "source": [
    "X_val_final.head()"
   ]
  },
  {
   "cell_type": "code",
   "execution_count": 113,
   "id": "9ff923c7",
   "metadata": {},
   "outputs": [
    {
     "data": {
      "text/plain": [
       "(91109, 10)"
      ]
     },
     "execution_count": 113,
     "metadata": {},
     "output_type": "execute_result"
    }
   ],
   "source": [
    "X_train_final.shape"
   ]
  },
  {
   "cell_type": "markdown",
   "id": "8571fae6",
   "metadata": {},
   "source": [
    "Making final predictions with XGBoost"
   ]
  },
  {
   "cell_type": "code",
   "execution_count": 114,
   "id": "f2fdeff1",
   "metadata": {},
   "outputs": [
    {
     "name": "stdout",
     "output_type": "stream",
     "text": [
      "--------------------------------------------------\n",
      "Training on fold 1\n",
      "--------------------------------------------------\n"
     ]
    },
    {
     "name": "stderr",
     "output_type": "stream",
     "text": [
      "C:\\Users\\HP\\anaconda3\\lib\\site-packages\\xgboost\\sklearn.py:1146: UserWarning: The use of label encoder in XGBClassifier is deprecated and will be removed in a future release. To remove this warning, do the following: 1) Pass option use_label_encoder=False when constructing XGBClassifier object; and 2) Encode your labels (y) as integers starting with 0, i.e. 0, 1, 2, ..., [num_class - 1].\n",
      "  warnings.warn(label_encoder_deprecation_msg, UserWarning)\n"
     ]
    },
    {
     "name": "stdout",
     "output_type": "stream",
     "text": [
      "AUROC score on fold 1: 0.7112836925040131\n",
      "--------------------------------------------------\n",
      "Training on fold 2\n",
      "--------------------------------------------------\n"
     ]
    },
    {
     "name": "stderr",
     "output_type": "stream",
     "text": [
      "C:\\Users\\HP\\anaconda3\\lib\\site-packages\\xgboost\\sklearn.py:1146: UserWarning: The use of label encoder in XGBClassifier is deprecated and will be removed in a future release. To remove this warning, do the following: 1) Pass option use_label_encoder=False when constructing XGBClassifier object; and 2) Encode your labels (y) as integers starting with 0, i.e. 0, 1, 2, ..., [num_class - 1].\n",
      "  warnings.warn(label_encoder_deprecation_msg, UserWarning)\n"
     ]
    },
    {
     "name": "stdout",
     "output_type": "stream",
     "text": [
      "AUROC score on fold 2: 0.7193872602327636\n",
      "--------------------------------------------------\n",
      "Training on fold 3\n",
      "--------------------------------------------------\n"
     ]
    },
    {
     "name": "stderr",
     "output_type": "stream",
     "text": [
      "C:\\Users\\HP\\anaconda3\\lib\\site-packages\\xgboost\\sklearn.py:1146: UserWarning: The use of label encoder in XGBClassifier is deprecated and will be removed in a future release. To remove this warning, do the following: 1) Pass option use_label_encoder=False when constructing XGBClassifier object; and 2) Encode your labels (y) as integers starting with 0, i.e. 0, 1, 2, ..., [num_class - 1].\n",
      "  warnings.warn(label_encoder_deprecation_msg, UserWarning)\n"
     ]
    },
    {
     "name": "stdout",
     "output_type": "stream",
     "text": [
      "AUROC score on fold 3: 0.7159291457596897\n",
      "--------------------------------------------------\n",
      "Training on fold 4\n",
      "--------------------------------------------------\n"
     ]
    },
    {
     "name": "stderr",
     "output_type": "stream",
     "text": [
      "C:\\Users\\HP\\anaconda3\\lib\\site-packages\\xgboost\\sklearn.py:1146: UserWarning: The use of label encoder in XGBClassifier is deprecated and will be removed in a future release. To remove this warning, do the following: 1) Pass option use_label_encoder=False when constructing XGBClassifier object; and 2) Encode your labels (y) as integers starting with 0, i.e. 0, 1, 2, ..., [num_class - 1].\n",
      "  warnings.warn(label_encoder_deprecation_msg, UserWarning)\n"
     ]
    },
    {
     "name": "stdout",
     "output_type": "stream",
     "text": [
      "AUROC score on fold 4: 0.7020250366000306\n",
      "--------------------------------------------------\n",
      "Training on fold 5\n",
      "--------------------------------------------------\n"
     ]
    },
    {
     "name": "stderr",
     "output_type": "stream",
     "text": [
      "C:\\Users\\HP\\anaconda3\\lib\\site-packages\\xgboost\\sklearn.py:1146: UserWarning: The use of label encoder in XGBClassifier is deprecated and will be removed in a future release. To remove this warning, do the following: 1) Pass option use_label_encoder=False when constructing XGBClassifier object; and 2) Encode your labels (y) as integers starting with 0, i.e. 0, 1, 2, ..., [num_class - 1].\n",
      "  warnings.warn(label_encoder_deprecation_msg, UserWarning)\n"
     ]
    },
    {
     "name": "stdout",
     "output_type": "stream",
     "text": [
      "AUROC score on fold 5: 0.7166473269587925\n"
     ]
    }
   ],
   "source": [
    "predictions = train_model_kfold_cv(X_train_final,Y_train, X_test_final)"
   ]
  },
  {
   "cell_type": "code",
   "execution_count": 115,
   "id": "b8f4ae5c",
   "metadata": {},
   "outputs": [
    {
     "name": "stdout",
     "output_type": "stream",
     "text": [
      "Average AUC : 0.7130544924110579\n"
     ]
    },
    {
     "data": {
      "image/png": "[encoded data removed]",
      "text/plain": [
       "<Figure size 432x288 with 1 Axes>"
      ]
     },
     "metadata": {
      "needs_background": "light"
     },
     "output_type": "display_data"
    }
   ],
   "source": [
    "folds=[1,2,3,4,5]\n",
    "plt.plot(folds,XGBoost_of_auroc)\n",
    "print('Average AUC :',sum(XGBoost_of_auroc)/5)"
   ]
  },
  {
   "cell_type": "code",
   "execution_count": 121,
   "id": "ba4dcfd9",
   "metadata": {},
   "outputs": [],
   "source": [
    "X_test=pd.read_csv(\"Data/UnlabeledWiDS2021.csv\")"
   ]
  },
  {
   "cell_type": "code",
   "execution_count": 122,
   "id": "be062835",
   "metadata": {},
   "outputs": [
    {
     "data": {
      "text/html": [
       "<div>\n",
       "<style scoped>\n",
       "    .dataframe tbody tr th:only-of-type {\n",
       "        vertical-align: middle;\n",
       "    }\n",
       "\n",
       "    .dataframe tbody tr th {\n",
       "        vertical-align: top;\n",
       "    }\n",
       "\n",
       "    .dataframe thead th {\n",
       "        text-align: right;\n",
       "    }\n",
       "</style>\n",
       "<table border=\"1\" class=\"dataframe\">\n",
       "  <thead>\n",
       "    <tr style=\"text-align: right;\">\n",
       "      <th></th>\n",
       "      <th>encounter_id</th>\n",
       "      <th>diabetes_mellitus</th>\n",
       "    </tr>\n",
       "  </thead>\n",
       "  <tbody>\n",
       "    <tr>\n",
       "      <th>0</th>\n",
       "      <td>144740</td>\n",
       "      <td>0.137211</td>\n",
       "    </tr>\n",
       "    <tr>\n",
       "      <th>1</th>\n",
       "      <td>141990</td>\n",
       "      <td>0.136557</td>\n",
       "    </tr>\n",
       "    <tr>\n",
       "      <th>2</th>\n",
       "      <td>142038</td>\n",
       "      <td>0.153607</td>\n",
       "    </tr>\n",
       "    <tr>\n",
       "      <th>3</th>\n",
       "      <td>138628</td>\n",
       "      <td>0.087643</td>\n",
       "    </tr>\n",
       "    <tr>\n",
       "      <th>4</th>\n",
       "      <td>141682</td>\n",
       "      <td>0.316193</td>\n",
       "    </tr>\n",
       "    <tr>\n",
       "      <th>...</th>\n",
       "      <td>...</td>\n",
       "      <td>...</td>\n",
       "    </tr>\n",
       "    <tr>\n",
       "      <th>10229</th>\n",
       "      <td>143750</td>\n",
       "      <td>0.053650</td>\n",
       "    </tr>\n",
       "    <tr>\n",
       "      <th>10230</th>\n",
       "      <td>143813</td>\n",
       "      <td>0.037801</td>\n",
       "    </tr>\n",
       "    <tr>\n",
       "      <th>10231</th>\n",
       "      <td>137126</td>\n",
       "      <td>0.082233</td>\n",
       "    </tr>\n",
       "    <tr>\n",
       "      <th>10232</th>\n",
       "      <td>135652</td>\n",
       "      <td>0.015927</td>\n",
       "    </tr>\n",
       "    <tr>\n",
       "      <th>10233</th>\n",
       "      <td>136852</td>\n",
       "      <td>0.014951</td>\n",
       "    </tr>\n",
       "  </tbody>\n",
       "</table>\n",
       "<p>10234 rows × 2 columns</p>\n",
       "</div>"
      ],
      "text/plain": [
       "       encounter_id  diabetes_mellitus\n",
       "0            144740           0.137211\n",
       "1            141990           0.136557\n",
       "2            142038           0.153607\n",
       "3            138628           0.087643\n",
       "4            141682           0.316193\n",
       "...             ...                ...\n",
       "10229        143750           0.053650\n",
       "10230        143813           0.037801\n",
       "10231        137126           0.082233\n",
       "10232        135652           0.015927\n",
       "10233        136852           0.014951\n",
       "\n",
       "[10234 rows x 2 columns]"
      ]
     },
     "execution_count": 122,
     "metadata": {},
     "output_type": "execute_result"
    }
   ],
   "source": [
    "test_submission = pd.DataFrame(X_test[\"encounter_id\"])\n",
    "test_submission[\"diabetes_mellitus\"] = predictions[:, 1]\n",
    "test_submission"
   ]
  },
  {
   "cell_type": "code",
   "execution_count": 123,
   "id": "cceaf150",
   "metadata": {},
   "outputs": [],
   "source": [
    "test_submission.to_csv(\"xgb_v39.csv\",index=False)"
   ]
  },
  {
   "cell_type": "markdown",
   "id": "0be8951c",
   "metadata": {},
   "source": [
    "## Model 5: CatBoost "
   ]
  },
  {
   "cell_type": "code",
   "execution_count": 124,
   "id": "5e153e44",
   "metadata": {},
   "outputs": [],
   "source": [
    "import catboost\n",
    "from catboost import CatBoost, Pool, CatBoostClassifier\n",
    "from sklearn.model_selection import train_test_split\n",
    "from sklearn.metrics import roc_auc_score"
   ]
  },
  {
   "cell_type": "code",
   "execution_count": 125,
   "id": "4bac2e24",
   "metadata": {},
   "outputs": [
    {
     "name": "stdout",
     "output_type": "stream",
     "text": [
      "Collecting imbalanced-learn\n",
      "  Downloading imbalanced_learn-0.9.0-py3-none-any.whl (199 kB)\n",
      "Requirement already satisfied: numpy>=1.14.6 in c:\\users\\hp\\anaconda3\\lib\\site-packages (from imbalanced-learn) (1.22.3)\n",
      "Requirement already satisfied: joblib>=0.11 in c:\\users\\hp\\anaconda3\\lib\\site-packages (from imbalanced-learn) (1.0.1)\n",
      "Requirement already satisfied: threadpoolctl>=2.0.0 in c:\\users\\hp\\anaconda3\\lib\\site-packages (from imbalanced-learn) (2.1.0)\n",
      "Requirement already satisfied: scikit-learn>=1.0.1 in c:\\users\\hp\\anaconda3\\lib\\site-packages (from imbalanced-learn) (1.0.2)\n",
      "Requirement already satisfied: scipy>=1.1.0 in c:\\users\\hp\\anaconda3\\lib\\site-packages (from imbalanced-learn) (1.6.2)\n",
      "Installing collected packages: imbalanced-learn\n",
      "Successfully installed imbalanced-learn-0.9.0\n"
     ]
    },
    {
     "name": "stderr",
     "output_type": "stream",
     "text": [
      "WARNING: You are using pip version 21.3.1; however, version 22.0.4 is available.\n",
      "You should consider upgrading via the 'C:\\Users\\HP\\anaconda3\\python.exe -m pip install --upgrade pip' command.\n"
     ]
    },
    {
     "name": "stdout",
     "output_type": "stream",
     "text": [
      "0.9.0\n"
     ]
    }
   ],
   "source": [
    "!pip install imbalanced-learn\n",
    "\n",
    "# check version number\n",
    "import imblearn\n",
    "print(imblearn.__version__)"
   ]
  },
  {
   "cell_type": "code",
   "execution_count": 126,
   "id": "68a86600",
   "metadata": {},
   "outputs": [
    {
     "data": {
      "text/plain": [
       "Index(['d1_glucose_max', 'glucose_apache', 'bmi', 'h1_glucose_max',\n",
       "       'd1_glucose_min', 'h1_glucose_min', 'weight', 'age',\n",
       "       'd1_creatinine_min', 'd1_creatinine_max'],\n",
       "      dtype='object')"
      ]
     },
     "execution_count": 126,
     "metadata": {},
     "output_type": "execute_result"
    }
   ],
   "source": [
    "X_test_final.head()\n",
    "X_test_final.columns"
   ]
  },
  {
   "cell_type": "code",
   "execution_count": 127,
   "id": "af5faf62",
   "metadata": {},
   "outputs": [],
   "source": [
    "X_train_temp=X_train_final.astype(np.int64)\n",
    "X_test_temp=X_test_final.astype(np.int64)"
   ]
  },
  {
   "cell_type": "code",
   "execution_count": 128,
   "id": "5de18135",
   "metadata": {},
   "outputs": [
    {
     "name": "stderr",
     "output_type": "stream",
     "text": [
      "<ipython-input-128-6430c5f0f819>:5: DeprecationWarning: `np.object` is a deprecated alias for the builtin `object`. To silence this warning, use `object` by itself. Doing this will not modify any behavior and is safe. \n",
      "Deprecated in NumPy 1.20; for more details and guidance: https://numpy.org/devdocs/release/1.20.0-notes.html#deprecations\n",
      "  if X_train_temp[col].dtypes == np.object or X_train_temp[col].dtypes == np.int64:\n"
     ]
    }
   ],
   "source": [
    "columns = []\n",
    "columns_index = []\n",
    "for i, col in enumerate(X_train_temp.columns):\n",
    "   \n",
    "    if X_train_temp[col].dtypes == np.object or X_train_temp[col].dtypes == np.int64:\n",
    "        columns.append(col)\n",
    "        columns_index.append(i)\n"
   ]
  },
  {
   "cell_type": "code",
   "execution_count": 129,
   "id": "c2edc08c",
   "metadata": {},
   "outputs": [
    {
     "data": {
      "text/plain": [
       "54214    0\n",
       "96323    0\n",
       "95540    0\n",
       "79988    1\n",
       "16208    0\n",
       "        ..\n",
       "15718    0\n",
       "88295    0\n",
       "47670    1\n",
       "20378    0\n",
       "46309    0\n",
       "Name: diabetes_mellitus, Length: 91109, dtype: int64"
      ]
     },
     "execution_count": 129,
     "metadata": {},
     "output_type": "execute_result"
    }
   ],
   "source": [
    "X_train_temp.fillna(\"0\")\n",
    "Y_train_temp=Y_train\n",
    "Y_train_temp.fillna(\"0\")"
   ]
  },
  {
   "cell_type": "code",
   "execution_count": 131,
   "id": "5cd85395",
   "metadata": {
    "scrolled": true
   },
   "outputs": [
    {
     "name": "stdout",
     "output_type": "stream",
     "text": [
      "0:\tlearn: 0.5787508\ttotal: 373ms\tremaining: 1m 14s\n",
      "1:\tlearn: 0.5149091\ttotal: 478ms\tremaining: 47.3s\n",
      "2:\tlearn: 0.4799026\ttotal: 619ms\tremaining: 40.6s\n",
      "3:\tlearn: 0.4583406\ttotal: 782ms\tremaining: 38.3s\n",
      "4:\tlearn: 0.4445884\ttotal: 894ms\tremaining: 34.9s\n",
      "5:\tlearn: 0.4359129\ttotal: 1.02s\tremaining: 33.1s\n",
      "6:\tlearn: 0.4292495\ttotal: 1.12s\tremaining: 31s\n",
      "7:\tlearn: 0.4249900\ttotal: 1.28s\tremaining: 30.7s\n",
      "8:\tlearn: 0.4217422\ttotal: 1.39s\tremaining: 29.4s\n",
      "9:\tlearn: 0.4196396\ttotal: 1.47s\tremaining: 27.9s\n",
      "10:\tlearn: 0.4169341\ttotal: 1.64s\tremaining: 28.2s\n",
      "11:\tlearn: 0.4155328\ttotal: 1.8s\tremaining: 28.3s\n",
      "12:\tlearn: 0.4141202\ttotal: 2.05s\tremaining: 29.5s\n",
      "13:\tlearn: 0.4135588\ttotal: 2.2s\tremaining: 29.2s\n",
      "14:\tlearn: 0.4120388\ttotal: 2.34s\tremaining: 28.9s\n",
      "15:\tlearn: 0.4114168\ttotal: 2.5s\tremaining: 28.7s\n",
      "16:\tlearn: 0.4106523\ttotal: 2.62s\tremaining: 28.2s\n",
      "17:\tlearn: 0.4101364\ttotal: 2.81s\tremaining: 28.4s\n",
      "18:\tlearn: 0.4095083\ttotal: 3.02s\tremaining: 28.7s\n",
      "19:\tlearn: 0.4091456\ttotal: 3.26s\tremaining: 29.4s\n",
      "20:\tlearn: 0.4089255\ttotal: 3.41s\tremaining: 29.1s\n",
      "21:\tlearn: 0.4083610\ttotal: 3.65s\tremaining: 29.5s\n",
      "22:\tlearn: 0.4079581\ttotal: 3.75s\tremaining: 28.9s\n",
      "23:\tlearn: 0.4078195\ttotal: 4.06s\tremaining: 29.8s\n",
      "24:\tlearn: 0.4075592\ttotal: 4.35s\tremaining: 30.5s\n",
      "25:\tlearn: 0.4071399\ttotal: 4.52s\tremaining: 30.2s\n",
      "26:\tlearn: 0.4067601\ttotal: 4.69s\tremaining: 30s\n",
      "27:\tlearn: 0.4066360\ttotal: 4.8s\tremaining: 29.5s\n",
      "28:\tlearn: 0.4063720\ttotal: 4.99s\tremaining: 29.4s\n",
      "29:\tlearn: 0.4061768\ttotal: 5.19s\tremaining: 29.4s\n",
      "30:\tlearn: 0.4060316\ttotal: 5.41s\tremaining: 29.5s\n",
      "31:\tlearn: 0.4057162\ttotal: 5.53s\tremaining: 29.1s\n",
      "32:\tlearn: 0.4054254\ttotal: 5.74s\tremaining: 29s\n",
      "33:\tlearn: 0.4051289\ttotal: 5.9s\tremaining: 28.8s\n",
      "34:\tlearn: 0.4049788\ttotal: 6.08s\tremaining: 28.7s\n",
      "35:\tlearn: 0.4048187\ttotal: 6.32s\tremaining: 28.8s\n",
      "36:\tlearn: 0.4047294\ttotal: 6.52s\tremaining: 28.7s\n",
      "37:\tlearn: 0.4046283\ttotal: 6.74s\tremaining: 28.8s\n",
      "38:\tlearn: 0.4044673\ttotal: 6.92s\tremaining: 28.6s\n",
      "39:\tlearn: 0.4043487\ttotal: 7.07s\tremaining: 28.3s\n",
      "40:\tlearn: 0.4042328\ttotal: 7.27s\tremaining: 28.2s\n",
      "41:\tlearn: 0.4040001\ttotal: 7.56s\tremaining: 28.4s\n",
      "42:\tlearn: 0.4037826\ttotal: 7.74s\tremaining: 28.3s\n",
      "43:\tlearn: 0.4036769\ttotal: 7.89s\tremaining: 28s\n",
      "44:\tlearn: 0.4035267\ttotal: 8.07s\tremaining: 27.8s\n",
      "45:\tlearn: 0.4033932\ttotal: 8.21s\tremaining: 27.5s\n",
      "46:\tlearn: 0.4033029\ttotal: 8.47s\tremaining: 27.6s\n",
      "47:\tlearn: 0.4031469\ttotal: 8.79s\tremaining: 27.8s\n",
      "48:\tlearn: 0.4030276\ttotal: 9.01s\tremaining: 27.8s\n",
      "49:\tlearn: 0.4028259\ttotal: 9.18s\tremaining: 27.5s\n",
      "50:\tlearn: 0.4027222\ttotal: 9.31s\tremaining: 27.2s\n",
      "51:\tlearn: 0.4025481\ttotal: 9.65s\tremaining: 27.5s\n",
      "52:\tlearn: 0.4023856\ttotal: 9.99s\tremaining: 27.7s\n",
      "53:\tlearn: 0.4022516\ttotal: 10.3s\tremaining: 27.7s\n",
      "54:\tlearn: 0.4021197\ttotal: 10.4s\tremaining: 27.5s\n",
      "55:\tlearn: 0.4019804\ttotal: 10.6s\tremaining: 27.3s\n",
      "56:\tlearn: 0.4018382\ttotal: 10.9s\tremaining: 27.3s\n",
      "57:\tlearn: 0.4018046\ttotal: 11.1s\tremaining: 27.1s\n",
      "58:\tlearn: 0.4016501\ttotal: 11.2s\tremaining: 26.8s\n",
      "59:\tlearn: 0.4015322\ttotal: 11.4s\tremaining: 26.6s\n",
      "60:\tlearn: 0.4013421\ttotal: 11.8s\tremaining: 26.8s\n",
      "61:\tlearn: 0.4012757\ttotal: 11.9s\tremaining: 26.5s\n",
      "62:\tlearn: 0.4010842\ttotal: 12.1s\tremaining: 26.3s\n",
      "63:\tlearn: 0.4010014\ttotal: 12.2s\tremaining: 26s\n",
      "64:\tlearn: 0.4008575\ttotal: 12.4s\tremaining: 25.8s\n",
      "65:\tlearn: 0.4007545\ttotal: 12.6s\tremaining: 25.6s\n",
      "66:\tlearn: 0.4007236\ttotal: 12.8s\tremaining: 25.3s\n",
      "67:\tlearn: 0.4006028\ttotal: 13s\tremaining: 25.3s\n",
      "68:\tlearn: 0.4005044\ttotal: 13.3s\tremaining: 25.2s\n",
      "69:\tlearn: 0.4004024\ttotal: 13.6s\tremaining: 25.3s\n",
      "70:\tlearn: 0.4003410\ttotal: 13.8s\tremaining: 25.1s\n",
      "71:\tlearn: 0.4002737\ttotal: 14.1s\tremaining: 25s\n",
      "72:\tlearn: 0.4002291\ttotal: 14.3s\tremaining: 24.8s\n",
      "73:\tlearn: 0.4001999\ttotal: 14.6s\tremaining: 24.8s\n",
      "74:\tlearn: 0.4000990\ttotal: 14.7s\tremaining: 24.6s\n",
      "75:\tlearn: 0.4000192\ttotal: 14.9s\tremaining: 24.3s\n",
      "76:\tlearn: 0.3998442\ttotal: 15.1s\tremaining: 24.1s\n",
      "77:\tlearn: 0.3997681\ttotal: 15.3s\tremaining: 23.9s\n",
      "78:\tlearn: 0.3996621\ttotal: 15.5s\tremaining: 23.8s\n",
      "79:\tlearn: 0.3995545\ttotal: 15.8s\tremaining: 23.7s\n",
      "80:\tlearn: 0.3995135\ttotal: 16s\tremaining: 23.5s\n",
      "81:\tlearn: 0.3994192\ttotal: 16.2s\tremaining: 23.3s\n",
      "82:\tlearn: 0.3993063\ttotal: 16.5s\tremaining: 23.3s\n",
      "83:\tlearn: 0.3991842\ttotal: 16.8s\tremaining: 23.2s\n",
      "84:\tlearn: 0.3989506\ttotal: 17s\tremaining: 23s\n",
      "85:\tlearn: 0.3988277\ttotal: 17.3s\tremaining: 22.9s\n",
      "86:\tlearn: 0.3987744\ttotal: 17.6s\tremaining: 22.8s\n",
      "87:\tlearn: 0.3986154\ttotal: 17.8s\tremaining: 22.7s\n",
      "88:\tlearn: 0.3985554\ttotal: 18s\tremaining: 22.4s\n",
      "89:\tlearn: 0.3984655\ttotal: 18.2s\tremaining: 22.2s\n",
      "90:\tlearn: 0.3983649\ttotal: 18.3s\tremaining: 22s\n",
      "91:\tlearn: 0.3982610\ttotal: 18.5s\tremaining: 21.7s\n",
      "92:\tlearn: 0.3982082\ttotal: 18.7s\tremaining: 21.5s\n",
      "93:\tlearn: 0.3980419\ttotal: 18.9s\tremaining: 21.3s\n",
      "94:\tlearn: 0.3979441\ttotal: 19.1s\tremaining: 21.1s\n",
      "95:\tlearn: 0.3978538\ttotal: 19.3s\tremaining: 20.9s\n",
      "96:\tlearn: 0.3977428\ttotal: 19.5s\tremaining: 20.7s\n",
      "97:\tlearn: 0.3975358\ttotal: 19.7s\tremaining: 20.5s\n",
      "98:\tlearn: 0.3974627\ttotal: 19.9s\tremaining: 20.3s\n",
      "99:\tlearn: 0.3974404\ttotal: 20.1s\tremaining: 20.1s\n",
      "100:\tlearn: 0.3973741\ttotal: 20.3s\tremaining: 19.9s\n",
      "101:\tlearn: 0.3972999\ttotal: 20.5s\tremaining: 19.7s\n",
      "102:\tlearn: 0.3972522\ttotal: 20.6s\tremaining: 19.4s\n",
      "103:\tlearn: 0.3971785\ttotal: 20.8s\tremaining: 19.2s\n",
      "104:\tlearn: 0.3971396\ttotal: 21s\tremaining: 19s\n",
      "105:\tlearn: 0.3969930\ttotal: 21.3s\tremaining: 18.8s\n",
      "106:\tlearn: 0.3968664\ttotal: 21.4s\tremaining: 18.6s\n",
      "107:\tlearn: 0.3967621\ttotal: 21.6s\tremaining: 18.4s\n",
      "108:\tlearn: 0.3965991\ttotal: 21.9s\tremaining: 18.3s\n",
      "109:\tlearn: 0.3965396\ttotal: 22.1s\tremaining: 18.1s\n",
      "110:\tlearn: 0.3964738\ttotal: 22.4s\tremaining: 17.9s\n",
      "111:\tlearn: 0.3964165\ttotal: 22.6s\tremaining: 17.7s\n",
      "112:\tlearn: 0.3963211\ttotal: 22.8s\tremaining: 17.6s\n",
      "113:\tlearn: 0.3962702\ttotal: 23s\tremaining: 17.3s\n",
      "114:\tlearn: 0.3961968\ttotal: 23.2s\tremaining: 17.1s\n",
      "115:\tlearn: 0.3961288\ttotal: 23.4s\tremaining: 17s\n",
      "116:\tlearn: 0.3960765\ttotal: 23.7s\tremaining: 16.8s\n",
      "117:\tlearn: 0.3960127\ttotal: 24s\tremaining: 16.7s\n",
      "118:\tlearn: 0.3959269\ttotal: 24.2s\tremaining: 16.5s\n",
      "119:\tlearn: 0.3957952\ttotal: 24.4s\tremaining: 16.3s\n",
      "120:\tlearn: 0.3957245\ttotal: 24.7s\tremaining: 16.1s\n",
      "121:\tlearn: 0.3956653\ttotal: 24.9s\tremaining: 15.9s\n",
      "122:\tlearn: 0.3955354\ttotal: 25s\tremaining: 15.7s\n",
      "123:\tlearn: 0.3954964\ttotal: 25.2s\tremaining: 15.5s\n",
      "124:\tlearn: 0.3953575\ttotal: 25.4s\tremaining: 15.3s\n",
      "125:\tlearn: 0.3953128\ttotal: 25.6s\tremaining: 15s\n",
      "126:\tlearn: 0.3952521\ttotal: 25.8s\tremaining: 14.8s\n",
      "127:\tlearn: 0.3951474\ttotal: 26s\tremaining: 14.6s\n",
      "128:\tlearn: 0.3950946\ttotal: 26.2s\tremaining: 14.4s\n",
      "129:\tlearn: 0.3950049\ttotal: 26.4s\tremaining: 14.2s\n",
      "130:\tlearn: 0.3949127\ttotal: 26.6s\tremaining: 14s\n",
      "131:\tlearn: 0.3948475\ttotal: 26.8s\tremaining: 13.8s\n",
      "132:\tlearn: 0.3947372\ttotal: 27s\tremaining: 13.6s\n",
      "133:\tlearn: 0.3946745\ttotal: 27.2s\tremaining: 13.4s\n",
      "134:\tlearn: 0.3946047\ttotal: 27.3s\tremaining: 13.1s\n",
      "135:\tlearn: 0.3945539\ttotal: 27.5s\tremaining: 12.9s\n",
      "136:\tlearn: 0.3945156\ttotal: 27.6s\tremaining: 12.7s\n",
      "137:\tlearn: 0.3944360\ttotal: 27.8s\tremaining: 12.5s\n",
      "138:\tlearn: 0.3943936\ttotal: 28s\tremaining: 12.3s\n",
      "139:\tlearn: 0.3943267\ttotal: 28.2s\tremaining: 12.1s\n",
      "140:\tlearn: 0.3942749\ttotal: 28.4s\tremaining: 11.9s\n",
      "141:\tlearn: 0.3942440\ttotal: 28.6s\tremaining: 11.7s\n",
      "142:\tlearn: 0.3941442\ttotal: 28.9s\tremaining: 11.5s\n",
      "143:\tlearn: 0.3940129\ttotal: 29s\tremaining: 11.3s\n",
      "144:\tlearn: 0.3939673\ttotal: 29.3s\tremaining: 11.1s\n",
      "145:\tlearn: 0.3938855\ttotal: 29.4s\tremaining: 10.9s\n",
      "146:\tlearn: 0.3937316\ttotal: 29.7s\tremaining: 10.7s\n",
      "147:\tlearn: 0.3936775\ttotal: 30s\tremaining: 10.5s\n",
      "148:\tlearn: 0.3935670\ttotal: 30.3s\tremaining: 10.4s\n",
      "149:\tlearn: 0.3934933\ttotal: 30.6s\tremaining: 10.2s\n",
      "150:\tlearn: 0.3934003\ttotal: 30.8s\tremaining: 10s\n",
      "151:\tlearn: 0.3933663\ttotal: 31s\tremaining: 9.78s\n",
      "152:\tlearn: 0.3933103\ttotal: 31.1s\tremaining: 9.56s\n",
      "153:\tlearn: 0.3932347\ttotal: 31.5s\tremaining: 9.41s\n",
      "154:\tlearn: 0.3931926\ttotal: 31.8s\tremaining: 9.22s\n",
      "155:\tlearn: 0.3931436\ttotal: 32s\tremaining: 9.03s\n",
      "156:\tlearn: 0.3930997\ttotal: 32.2s\tremaining: 8.82s\n",
      "157:\tlearn: 0.3930523\ttotal: 32.4s\tremaining: 8.6s\n",
      "158:\tlearn: 0.3929655\ttotal: 32.6s\tremaining: 8.4s\n",
      "159:\tlearn: 0.3929179\ttotal: 32.8s\tremaining: 8.19s\n",
      "160:\tlearn: 0.3928124\ttotal: 32.9s\tremaining: 7.97s\n"
     ]
    },
    {
     "name": "stdout",
     "output_type": "stream",
     "text": [
      "161:\tlearn: 0.3927414\ttotal: 33.1s\tremaining: 7.77s\n",
      "162:\tlearn: 0.3926300\ttotal: 33.3s\tremaining: 7.56s\n",
      "163:\tlearn: 0.3925640\ttotal: 33.5s\tremaining: 7.36s\n",
      "164:\tlearn: 0.3924915\ttotal: 33.8s\tremaining: 7.17s\n",
      "165:\tlearn: 0.3923866\ttotal: 34s\tremaining: 6.97s\n",
      "166:\tlearn: 0.3922831\ttotal: 34.2s\tremaining: 6.76s\n",
      "167:\tlearn: 0.3922507\ttotal: 34.4s\tremaining: 6.56s\n",
      "168:\tlearn: 0.3921855\ttotal: 34.7s\tremaining: 6.36s\n",
      "169:\tlearn: 0.3921486\ttotal: 35s\tremaining: 6.17s\n",
      "170:\tlearn: 0.3921096\ttotal: 35.2s\tremaining: 5.97s\n",
      "171:\tlearn: 0.3920727\ttotal: 35.4s\tremaining: 5.76s\n",
      "172:\tlearn: 0.3920148\ttotal: 35.7s\tremaining: 5.57s\n",
      "173:\tlearn: 0.3919200\ttotal: 35.9s\tremaining: 5.37s\n",
      "174:\tlearn: 0.3918405\ttotal: 36.2s\tremaining: 5.17s\n",
      "175:\tlearn: 0.3917470\ttotal: 36.4s\tremaining: 4.96s\n",
      "176:\tlearn: 0.3916386\ttotal: 36.6s\tremaining: 4.75s\n",
      "177:\tlearn: 0.3915049\ttotal: 37s\tremaining: 4.57s\n",
      "178:\tlearn: 0.3914744\ttotal: 37.3s\tremaining: 4.38s\n",
      "179:\tlearn: 0.3913725\ttotal: 37.7s\tremaining: 4.19s\n",
      "180:\tlearn: 0.3913111\ttotal: 38s\tremaining: 3.99s\n",
      "181:\tlearn: 0.3912163\ttotal: 38.3s\tremaining: 3.79s\n",
      "182:\tlearn: 0.3911964\ttotal: 38.6s\tremaining: 3.59s\n",
      "183:\tlearn: 0.3911012\ttotal: 38.8s\tremaining: 3.38s\n",
      "184:\tlearn: 0.3910189\ttotal: 39.1s\tremaining: 3.17s\n",
      "185:\tlearn: 0.3909554\ttotal: 39.4s\tremaining: 2.96s\n",
      "186:\tlearn: 0.3909321\ttotal: 39.6s\tremaining: 2.75s\n",
      "187:\tlearn: 0.3908923\ttotal: 39.8s\tremaining: 2.54s\n",
      "188:\tlearn: 0.3907922\ttotal: 40s\tremaining: 2.33s\n",
      "189:\tlearn: 0.3906902\ttotal: 40.3s\tremaining: 2.12s\n",
      "190:\tlearn: 0.3906333\ttotal: 40.6s\tremaining: 1.91s\n",
      "191:\tlearn: 0.3905446\ttotal: 41s\tremaining: 1.71s\n",
      "192:\tlearn: 0.3904583\ttotal: 41.2s\tremaining: 1.49s\n",
      "193:\tlearn: 0.3903674\ttotal: 41.6s\tremaining: 1.29s\n",
      "194:\tlearn: 0.3903067\ttotal: 41.9s\tremaining: 1.07s\n",
      "195:\tlearn: 0.3902550\ttotal: 42.2s\tremaining: 862ms\n",
      "196:\tlearn: 0.3901474\ttotal: 42.5s\tremaining: 648ms\n",
      "197:\tlearn: 0.3901026\ttotal: 42.8s\tremaining: 432ms\n",
      "198:\tlearn: 0.3900575\ttotal: 43.1s\tremaining: 217ms\n",
      "199:\tlearn: 0.3899911\ttotal: 43.4s\tremaining: 0us\n"
     ]
    },
    {
     "data": {
      "text/plain": [
       "0.8433444392822661"
      ]
     },
     "execution_count": 131,
     "metadata": {},
     "output_type": "execute_result"
    }
   ],
   "source": [
    "cb_model = CatBoostClassifier(iterations = 200, learning_rate = 0.2, depth = 6, \n",
    "                              loss_function = 'CrossEntropy')\n",
    "\n",
    "cb_model.fit(X_train_temp, Y_train_temp, columns)\n",
    "\n",
    "preds = cb_model.predict_proba(X_train_temp)\n",
    "roc = roc_auc_score(Y_train_temp, preds[:,1])\n",
    "roc"
   ]
  },
  {
   "cell_type": "markdown",
   "id": "34af3bdb",
   "metadata": {},
   "source": [
    "The Catboost model has an AUROC score of 0.84, which is better than almost all the other methods we discussed above"
   ]
  },
  {
   "cell_type": "code",
   "execution_count": 133,
   "id": "91c7c196",
   "metadata": {},
   "outputs": [],
   "source": [
    "pd.DataFrame({'encounter_id':X_test['encounter_id'].values,\n",
    "    'diabetes_mellitus':cb_model.predict_proba(X_test_temp)[:,1]}).to_csv('catBoost.csv',\n",
    "                                                                   index=False)"
   ]
  }
 ],
 "metadata": {
  "kernelspec": {
   "display_name": "Python 3",
   "language": "python",
   "name": "python3"
  },
  "language_info": {
   "codemirror_mode": {
    "name": "ipython",
    "version": 3
   },
   "file_extension": ".py",
   "mimetype": "text/x-python",
   "name": "python",
   "nbconvert_exporter": "python",
   "pygments_lexer": "ipython3",
   "version": "3.8.8"
  }
 },
 "nbformat": 4,
 "nbformat_minor": 5
}
